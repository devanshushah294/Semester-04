{
 "cells": [
  {
   "cell_type": "markdown",
   "metadata": {},
   "source": [
    "<a href='https://www.darshan.ac.in/'> <img src='https://www.darshan.ac.in/Content/media/DU_Logo.svg' width=\"250\" height=\"300\"/></a>\n",
    "<pre>\n",
    "<center><b><h1>Python Programming - 2101CS405</b></center>\n",
    "<center><b><h1>Lab - 1</b></center>    \n",
    "<pre>"
   ]
  },
  {
   "cell_type": "markdown",
   "metadata": {},
   "source": [
    "### 01) WAP to print “Hello World”"
   ]
  },
  {
   "cell_type": "code",
   "execution_count": 1,
   "metadata": {},
   "outputs": [
    {
     "name": "stdout",
     "output_type": "stream",
     "text": [
      "hello\n"
     ]
    }
   ],
   "source": [
    "print(\"hello\");"
   ]
  },
  {
   "cell_type": "markdown",
   "metadata": {},
   "source": [
    "### 02) WAP to print your address i) using single print ii) using multiple print"
   ]
  },
  {
   "cell_type": "code",
   "execution_count": 1,
   "metadata": {},
   "outputs": [
    {
     "name": "stdout",
     "output_type": "stream",
     "text": [
      "Enter the address: hello\n",
      "hello\n"
     ]
    }
   ],
   "source": [
    "address = input(\"Enter the address: \");\n",
    "print(address);"
   ]
  },
  {
   "cell_type": "markdown",
   "metadata": {},
   "source": [
    "### 03) WAP to print addition of 2 numbers (without input function)"
   ]
  },
  {
   "cell_type": "code",
   "execution_count": 16,
   "metadata": {},
   "outputs": [
    {
     "name": "stdout",
     "output_type": "stream",
     "text": [
      "Sum =  980\n"
     ]
    }
   ],
   "source": [
    "number1 = 285;\n",
    "number2 = 695;\n",
    "sum = number1 + number2;\n",
    "print(\"Sum = \",sum);"
   ]
  },
  {
   "cell_type": "markdown",
   "metadata": {},
   "source": [
    "### 04) WAP to calculate and print average of 2 numbers (without input function)"
   ]
  },
  {
   "cell_type": "code",
   "execution_count": 14,
   "metadata": {},
   "outputs": [
    {
     "name": "stdout",
     "output_type": "stream",
     "text": [
      "Enter the number 125\n",
      "Enter the number 236\n",
      "Average =  30.5\n"
     ]
    }
   ],
   "source": [
    "number1 = int(input(\"Enter the number 1\"));\n",
    "number2 = int(input(\"Enter the number 2\"));\n",
    "average = (number1 + number2)/2;\n",
    "print(\"Average = \",average);"
   ]
  },
  {
   "cell_type": "markdown",
   "metadata": {},
   "source": [
    "### 05) WAP to add two number entered by user."
   ]
  },
  {
   "cell_type": "code",
   "execution_count": 15,
   "metadata": {},
   "outputs": [
    {
     "name": "stdout",
     "output_type": "stream",
     "text": [
      "Enter the number 125\n",
      "Enter the number 236\n",
      "Sum =  61\n"
     ]
    }
   ],
   "source": [
    "number1 = int(input(\"Enter the number 1\"));\n",
    "number2 = int(input(\"Enter the number 2\"));\n",
    "sum = number1 + number2;\n",
    "print(\"Sum = \",sum);"
   ]
  },
  {
   "cell_type": "markdown",
   "metadata": {},
   "source": [
    "### 06) WAP to calculate simple interest."
   ]
  },
  {
   "cell_type": "code",
   "execution_count": 29,
   "metadata": {
    "scrolled": true
   },
   "outputs": [
    {
     "name": "stdout",
     "output_type": "stream",
     "text": [
      "Enter the principle Amount:52\n",
      "Enter the intrest : 25\n",
      "Enter the time in years : 5\n",
      "Intrest = 65.0\n"
     ]
    }
   ],
   "source": [
    "principleAmount = float(input(\"Enter the principle Amount:\"));\n",
    "rateOfIntrest = float(input(\"Enter the intrest : \"));\n",
    "time = float(input(\"Enter the time in years : \"));\n",
    "intrest = (principleAmount*rateOfIntrest*time)/100;\n",
    "print(\"Intrest =\",intrest);"
   ]
  },
  {
   "cell_type": "markdown",
   "metadata": {},
   "source": [
    "### 07) WAP Calculate Area and Circumfrence of Circle"
   ]
  },
  {
   "cell_type": "code",
   "execution_count": 32,
   "metadata": {},
   "outputs": [
    {
     "name": "stdout",
     "output_type": "stream",
     "text": [
      "Enter the radius2\n",
      "Circumference =  12.56\n",
      "Area =  12.56\n"
     ]
    }
   ],
   "source": [
    "radius = float(input(\"Enter the radius\"));\n",
    "area = radius*radius*3.14;\n",
    "circumference = 2*radius*3.14;\n",
    "print(\"Circumference = \", circumference);\n",
    "print(\"Area = \",area);"
   ]
  },
  {
   "cell_type": "markdown",
   "metadata": {},
   "source": [
    "### 08) WAP to print Multiplication table of given number without using loops."
   ]
  },
  {
   "cell_type": "code",
   "execution_count": 21,
   "metadata": {},
   "outputs": [
    {
     "name": "stdout",
     "output_type": "stream",
     "text": [
      "Enter the number5\n",
      " 5 * 1 = 5\n",
      " 5 * 2 = 10\n",
      " 5 * 3 = 15\n",
      " 5 * 4 = 20\n",
      " 5 * 5 = 25\n",
      " 5 * 6 = 30\n",
      " 5 * 7 = 35\n",
      " 5 * 8 = 40\n",
      " 5 * 9 = 45\n",
      " 5 * 10 = 50\n"
     ]
    }
   ],
   "source": [
    "number = int(input(\"Enter the number\"));\n",
    "print(\"\",number,\"*\",\"1\",\"=\",number*1);\n",
    "print(\"\",number,\"*\",\"2\",\"=\",number*2);\n",
    "print(\"\",number,\"*\",\"3\",\"=\",number*3);\n",
    "print(\"\",number,\"*\",\"4\",\"=\",number*4);\n",
    "print(\"\",number,\"*\",\"5\",\"=\",number*5);\n",
    "print(\"\",number,\"*\",\"6\",\"=\",number*6);\n",
    "print(\"\",number,\"*\",\"7\",\"=\",number*7);\n",
    "print(\"\",number,\"*\",\"8\",\"=\",number*8);\n",
    "print(\"\",number,\"*\",\"9\",\"=\",number*9);\n",
    "print(\"\",number,\"*\",\"10\",\"=\",number*10);"
   ]
  },
  {
   "cell_type": "markdown",
   "metadata": {},
   "source": [
    "### 09) WAP to calculate Area of Triangle (hint: a = h * b * 0.5)"
   ]
  },
  {
   "cell_type": "code",
   "execution_count": 35,
   "metadata": {},
   "outputs": [
    {
     "name": "stdout",
     "output_type": "stream",
     "text": [
      "Enter the height: 25\n",
      "enter the base: 36\n",
      "area =  450.0\n"
     ]
    }
   ],
   "source": [
    "height = float(input(\"Enter the height: \"));\n",
    "base = float(input(\"enter the base: \"));\n",
    "print(\"area = \",0.5*height*base);"
   ]
  },
  {
   "cell_type": "markdown",
   "metadata": {},
   "source": [
    "### 10) WAP to convert degree to Fahrenheit and vice versa."
   ]
  },
  {
   "cell_type": "code",
   "execution_count": null,
   "metadata": {},
   "outputs": [],
   "source": [
    "celsius = float(input(\"Enter the temp in celcius : \"));\n",
    "print(\"Farhenheit\")"
   ]
  },
  {
   "cell_type": "markdown",
   "metadata": {},
   "source": [
    "### 11) WAP to calculate total marks and Percentage."
   ]
  },
  {
   "cell_type": "code",
   "execution_count": null,
   "metadata": {},
   "outputs": [],
   "source": []
  },
  {
   "cell_type": "markdown",
   "metadata": {},
   "source": [
    "### 12) Compute distance between two points taking input from the user (Pythagorean Theorem)."
   ]
  },
  {
   "cell_type": "code",
   "execution_count": 37,
   "metadata": {},
   "outputs": [
    {
     "name": "stdout",
     "output_type": "stream",
     "text": [
      "Enter the x Coordinate Of Point1 : 25\n",
      "Enter the y Coordinate Of Point1 : 36\n",
      "Enter the x Coordinate Of Point2 : 36\n",
      "Enter the y Coordinate Of Point2 : 96\n",
      "Distance =  61.0\n"
     ]
    }
   ],
   "source": [
    "x1 = float(input(\"Enter the x Coordinate Of Point1 : \"));\n",
    "y1 = float(input(\"Enter the y Coordinate Of Point1 : \"));\n",
    "x2 = float(input(\"Enter the x Coordinate Of Point2 : \"));\n",
    "y2 = float(input(\"Enter the y Coordinate Of Point2 : \"));\n",
    "distance = ((x1-x2)**(2)+(y1-y2)**(2))**(1/2);\n",
    "print(\"Distance = \",distance);"
   ]
  },
  {
   "cell_type": "markdown",
   "metadata": {},
   "source": [
    "### 13) WAP to convert seconds into hours, minutes & seconds and print in HH:MM:SS\n",
    "[e.g. 10000 seconds mean 2:46:40 (2 Hours, 46 Minutes, 40Seconds)]"
   ]
  },
  {
   "cell_type": "code",
   "execution_count": 40,
   "metadata": {},
   "outputs": [
    {
     "name": "stdout",
     "output_type": "stream",
     "text": [
      "Enter the seconds : 10000\n",
      "2 : 46 : 40\n"
     ]
    }
   ],
   "source": [
    "seconds = int(input(\"Enter the seconds : \"));\n",
    "hours = int(seconds / (3600));\n",
    "seconds = seconds - (hours*3600);\n",
    "minutes = int(seconds / 60);\n",
    "seconds = seconds - (minutes * 60);\n",
    "print(hours,\":\",minutes,\":\",seconds)\n"
   ]
  },
  {
   "cell_type": "markdown",
   "metadata": {},
   "source": [
    "### 14) WAP to enter distance into kilometer and convert it into meter, feet,inches, and centimeter"
   ]
  },
  {
   "cell_type": "code",
   "execution_count": 42,
   "metadata": {},
   "outputs": [
    {
     "name": "stdout",
     "output_type": "stream",
     "text": [
      "Enter the kilometers : 1\n",
      "1.0 kilometer =  1000.0 meters\n",
      "1.0 kilometer =  3280.84 feets\n",
      "1.0 kilometer =  39370.1 inches\n",
      "1.0 kilometer =  100000.0 centimeters\n"
     ]
    }
   ],
   "source": [
    "kilometer = float(input(\"Enter the kilometers : \"));\n",
    "meter = kilometer * 1000;\n",
    "feet = kilometer * 3280.84;\n",
    "inches = kilometer * 39370.1;\n",
    "centimeter = meter*100;\n",
    "print(kilometer,\"kilometer = \",meter,\"meters\");\n",
    "print(kilometer,\"kilometer = \",feet,\"feets\");\n",
    "print(kilometer,\"kilometer = \",inches,\"inches\");\n",
    "print(kilometer,\"kilometer = \",centimeter,\"centimeters\");"
   ]
  }
 ],
 "metadata": {
  "kernelspec": {
   "display_name": "Python 3 (ipykernel)",
   "language": "python",
   "name": "python3"
  },
  "language_info": {
   "codemirror_mode": {
    "name": "ipython",
    "version": 3
   },
   "file_extension": ".py",
   "mimetype": "text/x-python",
   "name": "python",
   "nbconvert_exporter": "python",
   "pygments_lexer": "ipython3",
   "version": "3.9.7"
  }
 },
 "nbformat": 4,
 "nbformat_minor": 4
}
