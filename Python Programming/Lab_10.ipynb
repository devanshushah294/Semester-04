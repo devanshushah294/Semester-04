{
 "cells": [
  {
   "attachments": {},
   "cell_type": "markdown",
   "metadata": {},
   "source": [
    "<a href='https://www.darshan.ac.in/'> <img src='https://www.darshan.ac.in/Content/media/DU_Logo.svg' width=\"250\" height=\"300\"/></a>\n",
    "<pre>\n",
    "<center><b><h1>Python Programming - 2101CS405</b></center>\n",
    "<center><b><h1>Lab - 10</b></center>    \n",
    "<pre>"
   ]
  },
  {
   "cell_type": "markdown",
   "metadata": {},
   "source": [
    "# Modules"
   ]
  },
  {
   "cell_type": "markdown",
   "metadata": {},
   "source": [
    "# A"
   ]
  },
  {
   "cell_type": "markdown",
   "metadata": {},
   "source": [
    "### 01) WAP to create Calculator module which defines functions like add, sub,mul and div. create another file that uses the Calculator module."
   ]
  },
  {
   "cell_type": "code",
   "execution_count": 22,
   "metadata": {},
   "outputs": [
    {
     "name": "stdout",
     "output_type": "stream",
     "text": [
      "3.0\n"
     ]
    }
   ],
   "source": [
    "import calcmodule;\n",
    "a = calcmodule.div(15,5);\n",
    "print(a);"
   ]
  },
  {
   "cell_type": "markdown",
   "metadata": {},
   "source": [
    "### 02) WAP to Pick a random character from a given String."
   ]
  },
  {
   "cell_type": "code",
   "execution_count": 29,
   "metadata": {},
   "outputs": [
    {
     "name": "stdout",
     "output_type": "stream",
     "text": [
      "l\n"
     ]
    }
   ],
   "source": [
    "import random;\n",
    "string = \"hello world\";\n",
    "print(random.choice(string));"
   ]
  },
  {
   "cell_type": "markdown",
   "metadata": {},
   "source": [
    "### 03) WAP to Pick a random element from a given list."
   ]
  },
  {
   "cell_type": "code",
   "execution_count": 5,
   "metadata": {},
   "outputs": [
    {
     "name": "stdout",
     "output_type": "stream",
     "text": [
      "4\n"
     ]
    }
   ],
   "source": [
    "import random;\n",
    "list_a = [1,2,3,4,5];\n",
    "print(random.choice(list_a));"
   ]
  },
  {
   "cell_type": "markdown",
   "metadata": {},
   "source": [
    "### 04) WAP to demonstrate the use of the math module."
   ]
  },
  {
   "cell_type": "code",
   "execution_count": 32,
   "metadata": {},
   "outputs": [
    {
     "name": "stdout",
     "output_type": "stream",
     "text": [
      "e =  2.718281828459045\n",
      "pi =  3.141592653589793\n",
      "tau =  6.283185307179586\n",
      "6 floor of 5.6 5\n",
      "factorial =  120\n",
      "15\n",
      "30\n",
      "absolute 20.05\n",
      "148.4131591025766\n",
      "148.41315910257657\n",
      "1.0\n",
      "0.3010299956639812\n",
      "log to the base e =  0.6931471805599453\n",
      "3.0\n",
      "-0.9589242746631385\n",
      "0.28366218546322625\n",
      "-3.380515006246586\n",
      "radians of 90 1.5707963267948966\n",
      "degrees of 1.5707963267948966 90.0\n",
      "24.0\n"
     ]
    }
   ],
   "source": [
    "import math;\n",
    "print(\"e = \",math.e);\n",
    "print(\"pi = \",math.pi);\n",
    "print(\"tau = \",math.tau);\n",
    "print(math.ceil(5.6),\"floor of 5.6\",math.floor(5.6));\n",
    "print(\"factorial = \",math.factorial(5));\n",
    "print(math.gcd(15,30));\n",
    "print(math.lcm(15,30));\n",
    "print(\"absolute\",math.fabs(-20.05));\n",
    "print(math.exp(5));\n",
    "print(math.pow(math.e,5));\n",
    "print(math.log2(2));\n",
    "print(math.log10(2));\n",
    "print(\"log to the base e = \",math.log(2));\n",
    "print(math.sqrt(9));\n",
    "print(math.sin(5));\n",
    "print(math.cos(5));\n",
    "print(math.tan(5));\n",
    "print(\"radians of 90\",math.radians(90));\n",
    "print(\"degrees of 1.5707963267948966\",math.degrees(1.5707963267948966));\n",
    "print(math.gamma(5));"
   ]
  },
  {
   "cell_type": "markdown",
   "metadata": {},
   "source": [
    "### 05) WAP to demonstrate the use of date time module."
   ]
  },
  {
   "cell_type": "code",
   "execution_count": null,
   "metadata": {},
   "outputs": [],
   "source": [
    "# Date class\n",
    "import datetime;\n",
    "dat = datetime.date(2003,3,28);\n",
    "print(dat);\n",
    "print(\"Aajni tarikh - \",datetime.date.today());\n",
    "print(\"day\",dat.day);\n",
    "print(\"month\",dat.month);\n",
    "print(\"year\",dat.year);"
   ]
  },
  {
   "cell_type": "code",
   "execution_count": null,
   "metadata": {},
   "outputs": [],
   "source": [
    "# Time class\n",
    "import datetime;\n",
    "tim = datetime.time(8,44,2);\n",
    "print(tim);\n",
    "print(tim.hour);\n",
    "print(tim.min);\n",
    "print(tim.second);\n",
    "print(tim.microsecond);"
   ]
  },
  {
   "cell_type": "code",
   "execution_count": 57,
   "metadata": {},
   "outputs": [
    {
     "name": "stdout",
     "output_type": "stream",
     "text": [
      "2003-04-25 08:44:56.000002\n",
      "2023-03-12 18:10:30.871063\n"
     ]
    }
   ],
   "source": [
    "# datetime\n",
    "import datetime;\n",
    "dattim = datetime.datetime(2003,4,25,8,44,56,2)\n",
    "print(dattim);\n",
    "print(datetime.datetime.now());"
   ]
  },
  {
   "cell_type": "markdown",
   "metadata": {},
   "source": [
    "# B"
   ]
  },
  {
   "cell_type": "markdown",
   "metadata": {},
   "source": [
    "### 01) WAP to Roll dice in such a way that every time you get the same number."
   ]
  },
  {
   "cell_type": "code",
   "execution_count": 16,
   "metadata": {},
   "outputs": [
    {
     "name": "stdout",
     "output_type": "stream",
     "text": [
      "1\n"
     ]
    }
   ],
   "source": [
    "import random;\n",
    "random.seed(2);\n",
    "lista = [1,2,3,4,5,6];\n",
    "print(random.choice(lista));"
   ]
  },
  {
   "cell_type": "markdown",
   "metadata": {},
   "source": [
    "### 02) WAP to generate 3 random integers between 100 and 999 which is divisible by 5."
   ]
  },
  {
   "cell_type": "code",
   "execution_count": 99,
   "metadata": {},
   "outputs": [
    {
     "name": "stdout",
     "output_type": "stream",
     "text": [
      "[635, 655, 750]\n"
     ]
    }
   ],
   "source": [
    "lista = [];\n",
    "while(len(lista)!= 3):\n",
    "  a = random.randint(100,999);\n",
    "  if(a%5==0):\n",
    "    lista.append(a);\n",
    "print(lista);"
   ]
  },
  {
   "cell_type": "markdown",
   "metadata": {},
   "source": [
    "### 03) WAP to generate 100 random lottery tickets and pick two lucky tickets from it as a winner."
   ]
  },
  {
   "cell_type": "code",
   "execution_count": 101,
   "metadata": {},
   "outputs": [
    {
     "name": "stdout",
     "output_type": "stream",
     "text": [
      "[51, 46]\n"
     ]
    }
   ],
   "source": [
    "import random;\n",
    "lista = [i for i in range(1,101)];\n",
    "selected_tickets = random.sample(lista,2);\n",
    "print(selected_tickets);\n"
   ]
  },
  {
   "cell_type": "markdown",
   "metadata": {},
   "source": [
    "### 04) WAP to print current date and time in Python."
   ]
  },
  {
   "cell_type": "code",
   "execution_count": 28,
   "metadata": {},
   "outputs": [
    {
     "name": "stdout",
     "output_type": "stream",
     "text": [
      "2023-02-13 10:21:32.228350\n"
     ]
    }
   ],
   "source": [
    "import datetime;\n",
    "print(datetime.datetime.now());"
   ]
  },
  {
   "cell_type": "markdown",
   "metadata": {},
   "source": [
    "### 05) Subtract a week (7 days) from a given date in Python."
   ]
  },
  {
   "cell_type": "code",
   "execution_count": 3,
   "metadata": {},
   "outputs": [
    {
     "name": "stdout",
     "output_type": "stream",
     "text": [
      "13\n",
      "2003-09-06\n"
     ]
    }
   ],
   "source": [
    "import datetime;\n",
    "date1 = datetime.date(day=13,month=9,year=2003);\n",
    "new_date = date1 - datetime.timedelta(days=7);\n",
    "print(new_date);"
   ]
  },
  {
   "cell_type": "markdown",
   "metadata": {},
   "source": [
    "### 06) WAP to Calculate number of days between two given dates."
   ]
  },
  {
   "cell_type": "code",
   "execution_count": 102,
   "metadata": {},
   "outputs": [
    {
     "name": "stdout",
     "output_type": "stream",
     "text": [
      "137\n",
      "<class 'datetime.timedelta'>\n"
     ]
    }
   ],
   "source": [
    "import datetime\n",
    "today = datetime.date(2003,4,29)\n",
    "someday = datetime.date(2003,9,13)\n",
    "diff = someday - today\n",
    "print(diff.days);\n",
    "print(type(diff))"
   ]
  },
  {
   "cell_type": "markdown",
   "metadata": {},
   "source": [
    "### 07) WAP to Find the day of the week of a given date."
   ]
  },
  {
   "cell_type": "code",
   "execution_count": 115,
   "metadata": {},
   "outputs": [
    {
     "name": "stdout",
     "output_type": "stream",
     "text": [
      "Tuesday\n"
     ]
    }
   ],
   "source": [
    "import datetime;\n",
    "day1 = datetime.date(2003,4,29);\n",
    "d1 = day1.strftime(\"%A\")\n",
    "print(d1);"
   ]
  },
  {
   "cell_type": "code",
   "execution_count": 24,
   "metadata": {},
   "outputs": [
    {
     "name": "stdout",
     "output_type": "stream",
     "text": [
      "03\n",
      "date =  29:04:2003\n",
      "04:30:30\n",
      "04:AM:30\n",
      "2003-04-29 04:30:30\n"
     ]
    }
   ],
   "source": [
    "import datetime\n",
    "# date1 = datetime.datetime(2003,4,29,10,41,41,42)\n",
    "my_string = input(\"Enter datetime in format yyyy-mm-dd : \")\n",
    "date1 = datetime.datetime.strptime(my_string,\"%Y-%m-%d-%H-%M-%S\")\n",
    "\n",
    "s = date1.strftime(\"%y\")\n",
    "print(s)\n",
    "\n",
    "s = date1.strftime(\"%d:%m:%Y\")\n",
    "print(\"date = \",s)\n",
    "s = date1.strftime(\"%H:%M:%S\")\n",
    "print(s)\n",
    "s = date1.strftime(\"%I:%p:%S\")\n",
    "print(s)\n",
    "print(date1)"
   ]
  },
  {
   "cell_type": "code",
   "execution_count": null,
   "metadata": {},
   "outputs": [],
   "source": [
    "2003-4-29-4-30-30"
   ]
  }
 ],
 "metadata": {
  "kernelspec": {
   "display_name": "Python 3",
   "language": "python",
   "name": "python3"
  },
  "language_info": {
   "codemirror_mode": {
    "name": "ipython",
    "version": 3
   },
   "file_extension": ".py",
   "mimetype": "text/x-python",
   "name": "python",
   "nbconvert_exporter": "python",
   "pygments_lexer": "ipython3",
   "version": "3.11.0"
  },
  "vscode": {
   "interpreter": {
    "hash": "c8253c40f5a8e8444123cac8c8376aceee680d85e33b38d3d60136e9ad5d08d7"
   }
  }
 },
 "nbformat": 4,
 "nbformat_minor": 4
}
