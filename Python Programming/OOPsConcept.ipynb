{
 "cells": [
  {
   "cell_type": "code",
   "execution_count": 9,
   "metadata": {},
   "outputs": [],
   "source": [
    "class DemoClass:\n",
    "  a=10;\n",
    "  def printValue(self):\n",
    "    print(self.a+10);"
   ]
  },
  {
   "cell_type": "code",
   "execution_count": 10,
   "metadata": {},
   "outputs": [
    {
     "name": "stdout",
     "output_type": "stream",
     "text": [
      "10\n",
      "20\n"
     ]
    }
   ],
   "source": [
    "obj = DemoClass();\n",
    "print(obj.a);\n",
    "obj.printValue();"
   ]
  },
  {
   "cell_type": "code",
   "execution_count": 23,
   "metadata": {},
   "outputs": [],
   "source": [
    "class Maths:\n",
    "  def add(self,a,b):\n",
    "    print(a+b);\n",
    "  def printValue(self,name):\n",
    "    print(name);\n",
    "  "
   ]
  },
  {
   "cell_type": "code",
   "execution_count": null,
   "metadata": {},
   "outputs": [],
   "source": []
  },
  {
   "cell_type": "code",
   "execution_count": 24,
   "metadata": {},
   "outputs": [
    {
     "name": "stdout",
     "output_type": "stream",
     "text": [
      "30\n",
      "Devanshu\n"
     ]
    }
   ],
   "source": [
    "obj = Maths();\n",
    "obj.add(10,20);\n",
    "obj.printValue(\"Devanshu\");"
   ]
  },
  {
   "cell_type": "code",
   "execution_count": 1,
   "metadata": {},
   "outputs": [],
   "source": [
    "class CDemo:\n",
    "  def __init__(self) :\n",
    "    print(\"Hello world\");\n",
    "    "
   ]
  },
  {
   "cell_type": "code",
   "execution_count": 2,
   "metadata": {},
   "outputs": [
    {
     "name": "stdout",
     "output_type": "stream",
     "text": [
      "Hello world\n"
     ]
    }
   ],
   "source": [
    "obj = CDemo();"
   ]
  },
  {
   "cell_type": "code",
   "execution_count": 10,
   "metadata": {},
   "outputs": [],
   "source": [
    "class Student:\n",
    "  \n",
    "  studentName=\"\";\n",
    "  \n",
    "  # Consructor\n",
    "  def __init__(self,name):\n",
    "    self.studentName = name;\n",
    "  \n",
    "  # method\n",
    "  def printName(self):\n",
    "    print(self.studentName);"
   ]
  },
  {
   "cell_type": "code",
   "execution_count": 11,
   "metadata": {},
   "outputs": [
    {
     "name": "stdout",
     "output_type": "stream",
     "text": [
      "mubin\n"
     ]
    }
   ],
   "source": [
    "obj =  Student(\"mubin\");\n",
    "obj.printName();"
   ]
  },
  {
   "cell_type": "code",
   "execution_count": 3,
   "metadata": {},
   "outputs": [
    {
     "name": "stdout",
     "output_type": "stream",
     "text": [
      "Maruti\n",
      "800\n",
      "15\n"
     ]
    }
   ],
   "source": [
    "class Car:\n",
    "    def __init__(self,companyName,model,milage):\n",
    "        self.companyName = companyName;\n",
    "        self.model = model;l\n",
    "        self.milage = milage;\n",
    "\n",
    "    def getCompanyName(self):\n",
    "        print(self.companyName);\n",
    "    \n",
    "    def getModel(self):\n",
    "        print(self.model);\n",
    "    \n",
    "    def getMilage(self):\n",
    "        print(self.milage);\n",
    "    \n",
    "    def printDetails(self):\n",
    "        self.getCompanyName();\n",
    "        self.getModel();\n",
    "        self.getMilage();\n",
    "obj = Car(\"Maruti\",\"800\",15);\n",
    "obj.printDetails();"
   ]
  },
  {
   "cell_type": "code",
   "execution_count": 5,
   "metadata": {},
   "outputs": [
    {
     "name": "stdout",
     "output_type": "stream",
     "text": [
      "20\n"
     ]
    }
   ],
   "source": [
    "class Demo:\n",
    "    def printSum(self,a,b=None):\n",
    "        if b == None:\n",
    "            print(a);\n",
    "        else:\n",
    "            print(a+b);\n",
    "obj = Demo();\n",
    "obj.printSum(5,15);"
   ]
  },
  {
   "cell_type": "code",
   "execution_count": 10,
   "metadata": {},
   "outputs": [
    {
     "data": {
      "text/plain": [
       "mappingproxy({'__module__': '__main__',\n",
       "              'printSum': <function __main__.Demo.printSum(self, a, b=None)>,\n",
       "              '__dict__': <attribute '__dict__' of 'Demo' objects>,\n",
       "              '__weakref__': <attribute '__weakref__' of 'Demo' objects>,\n",
       "              '__doc__': None})"
      ]
     },
     "execution_count": 10,
     "metadata": {},
     "output_type": "execute_result"
    }
   ],
   "source": [
    "Demo.__dict__"
   ]
  },
  {
   "cell_type": "code",
   "execution_count": 12,
   "metadata": {},
   "outputs": [
    {
     "data": {
      "text/plain": [
       "'Demo'"
      ]
     },
     "execution_count": 12,
     "metadata": {},
     "output_type": "execute_result"
    }
   ],
   "source": [
    "Demo.__name__"
   ]
  },
  {
   "cell_type": "code",
   "execution_count": 14,
   "metadata": {},
   "outputs": [
    {
     "name": "stdout",
     "output_type": "stream",
     "text": [
      "None\n"
     ]
    }
   ],
   "source": [
    "obj = Demo();\n",
    "print(obj.__doc__)"
   ]
  },
  {
   "cell_type": "code",
   "execution_count": 15,
   "metadata": {},
   "outputs": [
    {
     "name": "stdout",
     "output_type": "stream",
     "text": [
      "20\n"
     ]
    }
   ],
   "source": [
    "obj.newaa = 20;\n",
    "print(obj.newaa);"
   ]
  },
  {
   "cell_type": "code",
   "execution_count": 29,
   "metadata": {},
   "outputs": [
    {
     "name": "stdout",
     "output_type": "stream",
     "text": [
      "6 + 9i\n"
     ]
    }
   ],
   "source": [
    "class ComplexNumber:\n",
    "    def __init__(self,a,b):\n",
    "        self.a = a\n",
    "        self.b = b\n",
    "    \n",
    "    def add(self,number):\n",
    "        c = ComplexNumber(0,0)\n",
    "        c.a = self.a+number.a\n",
    "        c.b = self.b+number.b\n",
    "        return c\n",
    "    \n",
    "    def display(self):\n",
    "        # print(self.a,\"+i\",self.b)\n",
    "        print(\"{0} + {1}i\".format(self.a,self.b))\n",
    "\n",
    "c1 = ComplexNumber(5,6)\n",
    "c2 = ComplexNumber(1,3)\n",
    "c3 = c1.add(c2)\n",
    "c3.display()"
   ]
  }
 ],
 "metadata": {
  "kernelspec": {
   "display_name": "Python 3",
   "language": "python",
   "name": "python3"
  },
  "language_info": {
   "codemirror_mode": {
    "name": "ipython",
    "version": 3
   },
   "file_extension": ".py",
   "mimetype": "text/x-python",
   "name": "python",
   "nbconvert_exporter": "python",
   "pygments_lexer": "ipython3",
   "version": "3.11.0"
  },
  "orig_nbformat": 4,
  "vscode": {
   "interpreter": {
    "hash": "c8253c40f5a8e8444123cac8c8376aceee680d85e33b38d3d60136e9ad5d08d7"
   }
  }
 },
 "nbformat": 4,
 "nbformat_minor": 2
}
