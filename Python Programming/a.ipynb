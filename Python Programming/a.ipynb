{
 "cells": [
  {
   "cell_type": "code",
   "execution_count": 10,
   "metadata": {},
   "outputs": [
    {
     "name": "stdout",
     "output_type": "stream",
     "text": [
      "Inside class B\n",
      "<class '__main__.B'>\n"
     ]
    }
   ],
   "source": [
    "class A:\n",
    "    def display(self):\n",
    "        print(\"Inside class A\")\n",
    "\n",
    "class B(A):\n",
    "    def display(self):\n",
    "        print(\"Inside class B\")\n",
    "class C(A):\n",
    "    pass\n",
    "\n",
    "a = input(\"Enter name of class you want object\")\n",
    "if(a == \"C\"):\n",
    "    obj1 = C()\n",
    "elif(a == \"B\"):\n",
    "    obj1 = B()\n",
    "\n",
    "    \n",
    "obj1.display()\n",
    "print(type(obj1))"
   ]
  },
  {
   "cell_type": "code",
   "execution_count": 16,
   "metadata": {},
   "outputs": [
    {
     "name": "stdout",
     "output_type": "stream",
     "text": [
      "You are in class C\n",
      "You are in class D Extended\n"
     ]
    }
   ],
   "source": [
    "class C:\n",
    "    def display(self):\n",
    "        print(\"You are in class C\")\n",
    "class D(C):\n",
    "    def display(self):\n",
    "        super().display()\n",
    "        print(\"You are in class D Extended\")\n",
    "obj2 = D()\n",
    "obj2.display()"
   ]
  }
 ],
 "metadata": {
  "kernelspec": {
   "display_name": "Python 3",
   "language": "python",
   "name": "python3"
  },
  "language_info": {
   "codemirror_mode": {
    "name": "ipython",
    "version": 3
   },
   "file_extension": ".py",
   "mimetype": "text/x-python",
   "name": "python",
   "nbconvert_exporter": "python",
   "pygments_lexer": "ipython3",
   "version": "3.11.0"
  },
  "orig_nbformat": 4
 },
 "nbformat": 4,
 "nbformat_minor": 2
}
