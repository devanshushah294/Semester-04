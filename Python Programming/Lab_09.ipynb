{
 "cells": [
  {
   "cell_type": "markdown",
   "metadata": {},
   "source": [
    "<a href='https://www.darshan.ac.in/'> <img src='https://www.darshan.ac.in/Content/media/DU_Logo.svg' width=\"250\" height=\"300\"/></a>\n",
    "<pre>\n",
    "<center><b><h1>Python Programming - 2101CS405</b></center>\n",
    "<center><b><h1>Lab - 9</b></center>    \n",
    "<pre>"
   ]
  },
  {
   "cell_type": "markdown",
   "metadata": {},
   "source": [
    "# Exception Handling"
   ]
  },
  {
   "cell_type": "markdown",
   "metadata": {},
   "source": [
    "# A"
   ]
  },
  {
   "cell_type": "markdown",
   "metadata": {},
   "source": [
    "### 01) WAP to handle divide by zero exception."
   ]
  },
  {
   "cell_type": "code",
   "execution_count": 3,
   "metadata": {},
   "outputs": [
    {
     "name": "stdout",
     "output_type": "stream",
     "text": [
      "Don't you dare to devide any number by zero\n"
     ]
    }
   ],
   "source": [
    "a = int(input(\"Enter the number 1: \"));\n",
    "b = int(input(\"Enter the number 2: \"));\n",
    "try :\n",
    "  c = a/b;\n",
    "  print(c);\n",
    "except ZeroDivisionError:\n",
    "  print(\"Don't you dare to devide any number by zero\");"
   ]
  },
  {
   "cell_type": "markdown",
   "metadata": {},
   "source": [
    "### 02)  Write a Python program that inputs a number and generates an error message if it is not a number."
   ]
  },
  {
   "cell_type": "code",
   "execution_count": null,
   "metadata": {},
   "outputs": [
    {
     "name": "stdout",
     "output_type": "stream",
     "text": [
      "wait! Value Error occured\n"
     ]
    }
   ],
   "source": [
    "try :\n",
    "  c = int(input(\"Enter the number\"));\n",
    "  print(c);\n",
    "except ValueError :\n",
    "  print(\"wait! Value Error occured\");"
   ]
  },
  {
   "cell_type": "markdown",
   "metadata": {},
   "source": [
    "### 03) WAP to handle file not found Exception"
   ]
  },
  {
   "cell_type": "code",
   "execution_count": null,
   "metadata": {},
   "outputs": [
    {
     "name": "stdout",
     "output_type": "stream",
     "text": [
      "Stop! Stop! file not found\n"
     ]
    }
   ],
   "source": [
    "try :\n",
    "  f = open(\"caf.txt\");\n",
    "  lines = f.readlines();\n",
    "  for i in lines :\n",
    "    print(i);\n",
    "except FileNotFoundError :\n",
    "  print(\"Stop! Stop! file not found\")"
   ]
  },
  {
   "cell_type": "markdown",
   "metadata": {},
   "source": [
    "### 04) WAP to handle type Exception."
   ]
  },
  {
   "cell_type": "code",
   "execution_count": 4,
   "metadata": {},
   "outputs": [
    {
     "name": "stdout",
     "output_type": "stream",
     "text": [
      "Type error occured : \n"
     ]
    }
   ],
   "source": [
    "a = int(input(\"Enter the number : \"));\n",
    "b = input(\"Enter the string : \");\n",
    "try : \n",
    "  answer = a+b;\n",
    "  print(answer);\n",
    "except TypeError:\n",
    "  print(\"Type error occured : \");"
   ]
  },
  {
   "cell_type": "markdown",
   "metadata": {},
   "source": [
    "### 05) WAP to demonstrate valueError and indexError with example."
   ]
  },
  {
   "cell_type": "code",
   "execution_count": 2,
   "metadata": {},
   "outputs": [
    {
     "name": "stdout",
     "output_type": "stream",
     "text": [
      "Value error occured\n"
     ]
    }
   ],
   "source": [
    "try :\n",
    "  a = input(\"Enter the number : \");\n",
    "  a = int(a);\n",
    "except : \n",
    "  print(\"Value error occured\");"
   ]
  },
  {
   "cell_type": "code",
   "execution_count": 5,
   "metadata": {},
   "outputs": [
    {
     "name": "stdout",
     "output_type": "stream",
     "text": [
      "index error occured\n"
     ]
    }
   ],
   "source": [
    "try:\n",
    "    list = [10,20,30]\n",
    "    print(list[12]);\n",
    "except IndexError:\n",
    "    print(\"index error occured\");"
   ]
  },
  {
   "cell_type": "markdown",
   "metadata": {},
   "source": [
    "### 06) WAP to domonstrate else  and finally block."
   ]
  },
  {
   "cell_type": "code",
   "execution_count": 2,
   "metadata": {},
   "outputs": [
    {
     "name": "stdout",
     "output_type": "stream",
     "text": [
      "Enter the correct password\n",
      "No Internet\n"
     ]
    }
   ],
   "source": [
    "class PasswordError(Exception):\n",
    "  pass\n",
    "try :\n",
    "  password = input(\"Enter the passWord\");\n",
    "  if(password == \"Maru wifi best wifi\"):\n",
    "    print(\"Connected\");\n",
    "  else:\n",
    "    raise PasswordError\n",
    "except PasswordError:\n",
    "  print(\"Enter the correct password\");\n",
    "finally:\n",
    "    print(\"No Internet\");"
   ]
  },
  {
   "attachments": {},
   "cell_type": "markdown",
   "metadata": {},
   "source": [
    "### 07) Create a short program that prompts the user for a list of grades separated by commas. Split the string into individual grades and use a list comprehension to convert each string to an integer. You should use a try statement to inform the user when the values they entered cannot be converted."
   ]
  },
  {
   "cell_type": "code",
   "execution_count": 4,
   "metadata": {},
   "outputs": [
    {
     "name": "stdout",
     "output_type": "stream",
     "text": [
      "Dont be over smart! I told you to enter numbers only\n"
     ]
    }
   ],
   "source": [
    "try:\n",
    "  str = input(\"Enter the string with comma seperatrd numbers : \");\n",
    "  words = str.split(\",\");\n",
    "  list_a = [int(i) for i in words]\n",
    "  print(list_a);  \n",
    "except ValueError:\n",
    "  print(\"Dont be over smart! I told you to enter numbers only\")\n"
   ]
  },
  {
   "cell_type": "markdown",
   "metadata": {},
   "source": []
  },
  {
   "cell_type": "markdown",
   "metadata": {},
   "source": [
    "# B"
   ]
  },
  {
   "cell_type": "markdown",
   "metadata": {},
   "source": [
    "### 01) WAP to Raising User Generated Exception."
   ]
  },
  {
   "cell_type": "code",
   "execution_count": 30,
   "metadata": {},
   "outputs": [
    {
     "name": "stdout",
     "output_type": "stream",
     "text": [
      "Value error occured\n"
     ]
    }
   ],
   "source": [
    "try :\n",
    "  age = int(input(\"Enter the age : \"));\n",
    "  if(age<18) :\n",
    "    raise ValueError\n",
    "except:\n",
    "  print(\"So sorry\");"
   ]
  },
  {
   "cell_type": "markdown",
   "metadata": {},
   "source": [
    "### 02) WAP to raise your custom Exception."
   ]
  },
  {
   "cell_type": "code",
   "execution_count": 5,
   "metadata": {},
   "outputs": [
    {
     "name": "stdout",
     "output_type": "stream",
     "text": [
      "Sorry! you are so small\n"
     ]
    }
   ],
   "source": [
    "class UnderAge(Exception) : \n",
    "  pass\n",
    "try:\n",
    "  age = int(input(\"Enter the age : \"));\n",
    "  if(age<18):\n",
    "    raise UnderAge;\n",
    "  print(\"Welcome\");\n",
    "except UnderAge:\n",
    "  print(\"Sorry! you are so small\");"
   ]
  }
 ],
 "metadata": {
  "kernelspec": {
   "display_name": "Python 3",
   "language": "python",
   "name": "python3"
  },
  "language_info": {
   "codemirror_mode": {
    "name": "ipython",
    "version": 3
   },
   "file_extension": ".py",
   "mimetype": "text/x-python",
   "name": "python",
   "nbconvert_exporter": "python",
   "pygments_lexer": "ipython3",
   "version": "3.11.0"
  },
  "vscode": {
   "interpreter": {
    "hash": "c8253c40f5a8e8444123cac8c8376aceee680d85e33b38d3d60136e9ad5d08d7"
   }
  }
 },
 "nbformat": 4,
 "nbformat_minor": 4
}
