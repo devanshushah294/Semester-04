{
 "cells": [
  {
   "cell_type": "markdown",
   "metadata": {},
   "source": [
    "<a href='https://www.darshan.ac.in/'> <img src='https://www.darshan.ac.in/Content/media/DU_Logo.svg' width=\"250\" height=\"300\"/></a>\n",
    "<pre>\n",
    "<center><b><h1>Python Programming - 2101CS405</b></center>\n",
    "<center><b><h1>Lab - 8</b></center>    \n",
    "<pre>"
   ]
  },
  {
   "cell_type": "markdown",
   "metadata": {},
   "source": [
    "# File handling"
   ]
  },
  {
   "cell_type": "markdown",
   "metadata": {},
   "source": [
    "# A"
   ]
  },
  {
   "cell_type": "markdown",
   "metadata": {},
   "source": [
    "### 01) WAP to read entire file named abc.txt"
   ]
  },
  {
   "cell_type": "code",
   "execution_count": 2,
   "metadata": {},
   "outputs": [
    {
     "name": "stdout",
     "output_type": "stream",
     "text": [
      "hello from \n",
      "abc text file\n",
      "from\n",
      "mubin seta and\n",
      "devanshushah and \n",
      "divyank raja\n",
      "hello\n",
      "hello\n"
     ]
    }
   ],
   "source": [
    "f1 = open(\"abc.txt\");\n",
    "lines = f1.read();\n",
    "print(lines);\n",
    "f1.close();"
   ]
  },
  {
   "cell_type": "markdown",
   "metadata": {},
   "source": [
    "### 02) WAP to print program it self on console."
   ]
  },
  {
   "cell_type": "code",
   "execution_count": 5,
   "metadata": {},
   "outputs": [
    {
     "name": "stdout",
     "output_type": "stream",
     "text": [
      "['{\\n', ' \"cells\": [\\n', '  {\\n', '   \"cell_type\": \"markdown\",\\n', '   \"metadata\": {},\\n', '   \"source\": [\\n', '    \"<a href=\\'https://www.darshan.ac.in/\\'> <img src=\\'https://www.darshan.ac.in/Content/media/DU_Logo.svg\\' width=\\\\\"250\\\\\" height=\\\\\"300\\\\\"/></a>\\\\n\",\\n', '    \"<pre>\\\\n\",\\n', '    \"<center><b><h1>Python Programming - 2101CS405</b></center>\\\\n\",\\n', '    \"<center><b><h1>Lab - 8</b></center>    \\\\n\",\\n', '    \"<pre>\"\\n', '   ]\\n', '  },\\n', '  {\\n', '   \"cell_type\": \"markdown\",\\n', '   \"metadata\": {},\\n', '   \"source\": [\\n', '    \"# File handling\"\\n', '   ]\\n', '  },\\n', '  {\\n', '   \"cell_type\": \"markdown\",\\n', '   \"metadata\": {},\\n', '   \"source\": [\\n', '    \"# A\"\\n', '   ]\\n', '  },\\n', '  {\\n', '   \"cell_type\": \"markdown\",\\n', '   \"metadata\": {},\\n', '   \"source\": [\\n', '    \"### 01) WAP to read entire file named abc.txt\"\\n', '   ]\\n', '  },\\n', '  {\\n', '   \"cell_type\": \"code\",\\n', '   \"execution_count\": 2,\\n', '   \"metadata\": {},\\n', '   \"outputs\": [\\n', '    {\\n', '     \"name\": \"stdout\",\\n', '     \"output_type\": \"stream\",\\n', '     \"text\": [\\n', '      \"[\\'hello from \\\\\\\\n\\', \\'abc text file\\\\\\\\n\\', \\'from\\\\\\\\n\\', \\'mubin seta and\\\\\\\\n\\', \\'devanshu shah\\']\\\\n\"\\n', '     ]\\n', '    }\\n', '   ],\\n', '   \"source\": [\\n', '    \"f1 = open(\\\\\"abc.txt\\\\\");\\\\n\",\\n', '    \"lines = f1.readlines();\\\\n\",\\n', '    \"print(lines);\"\\n', '   ]\\n', '  },\\n', '  {\\n', '   \"cell_type\": \"markdown\",\\n', '   \"metadata\": {},\\n', '   \"source\": [\\n', '    \"### 02) WAP to print program it self on console.\"\\n', '   ]\\n', '  },\\n', '  {\\n', '   \"cell_type\": \"code\",\\n', '   \"execution_count\": 3,\\n', '   \"metadata\": {},\\n', '   \"outputs\": [\\n', '    {\\n', '     \"name\": \"stdout\",\\n', '     \"output_type\": \"stream\",\\n', '     \"text\": [\\n', '      \"[\\'{\\\\\\\\n\\', \\' \\\\\"cells\\\\\": [\\\\\\\\n\\', \\'  {\\\\\\\\n\\', \\'   \\\\\"cell_type\\\\\": \\\\\"markdown\\\\\",\\\\\\\\n\\', \\'   \\\\\"metadata\\\\\": {},\\\\\\\\n\\', \\'   \\\\\"source\\\\\": [\\\\\\\\n\\', \\'    \\\\\"<a href=\\\\\\\\\\'https://www.darshan.ac.in/\\\\\\\\\\'> <img src=\\\\\\\\\\'https://www.darshan.ac.in/Content/media/DU_Logo.svg\\\\\\\\\\' width=\\\\\\\\\\\\\\\\\\\\\"250\\\\\\\\\\\\\\\\\\\\\" height=\\\\\\\\\\\\\\\\\\\\\"300\\\\\\\\\\\\\\\\\\\\\"/></a>\\\\\\\\\\\\\\\\n\\\\\",\\\\\\\\n\\', \\'    \\\\\"<pre>\\\\\\\\\\\\\\\\n\\\\\",\\\\\\\\n\\', \\'    \\\\\"<center><b><h1>Python Programming - 2101CS405</b></center>\\\\\\\\\\\\\\\\n\\\\\",\\\\\\\\n\\', \\'    \\\\\"<center><b><h1>Lab - 8</b></center>    \\\\\\\\\\\\\\\\n\\\\\",\\\\\\\\n\\', \\'    \\\\\"<pre>\\\\\"\\\\\\\\n\\', \\'   ]\\\\\\\\n\\', \\'  },\\\\\\\\n\\', \\'  {\\\\\\\\n\\', \\'   \\\\\"cell_type\\\\\": \\\\\"markdown\\\\\",\\\\\\\\n\\', \\'   \\\\\"metadata\\\\\": {},\\\\\\\\n\\', \\'   \\\\\"source\\\\\": [\\\\\\\\n\\', \\'    \\\\\"# File handling\\\\\"\\\\\\\\n\\', \\'   ]\\\\\\\\n\\', \\'  },\\\\\\\\n\\', \\'  {\\\\\\\\n\\', \\'   \\\\\"cell_type\\\\\": \\\\\"markdown\\\\\",\\\\\\\\n\\', \\'   \\\\\"metadata\\\\\": {},\\\\\\\\n\\', \\'   \\\\\"source\\\\\": [\\\\\\\\n\\', \\'    \\\\\"# A\\\\\"\\\\\\\\n\\', \\'   ]\\\\\\\\n\\', \\'  },\\\\\\\\n\\', \\'  {\\\\\\\\n\\', \\'   \\\\\"cell_type\\\\\": \\\\\"markdown\\\\\",\\\\\\\\n\\', \\'   \\\\\"metadata\\\\\": {},\\\\\\\\n\\', \\'   \\\\\"source\\\\\": [\\\\\\\\n\\', \\'    \\\\\"### 01) WAP to read entire file named abc.txt\\\\\"\\\\\\\\n\\', \\'   ]\\\\\\\\n\\', \\'  },\\\\\\\\n\\', \\'  {\\\\\\\\n\\', \\'   \\\\\"cell_type\\\\\": \\\\\"code\\\\\",\\\\\\\\n\\', \\'   \\\\\"execution_count\\\\\": 1,\\\\\\\\n\\', \\'   \\\\\"metadata\\\\\": {},\\\\\\\\n\\', \\'   \\\\\"outputs\\\\\": [\\\\\\\\n\\', \\'    {\\\\\\\\n\\', \\'     \\\\\"name\\\\\": \\\\\"stdout\\\\\",\\\\\\\\n\\', \\'     \\\\\"output_type\\\\\": \\\\\"stream\\\\\",\\\\\\\\n\\', \\'     \\\\\"text\\\\\": [\\\\\\\\n\\', \\'      \\\\\"[\\\\\\\\\\'hello from abc text file\\\\\\\\\\']\\\\\\\\\\\\\\\\n\\\\\"\\\\\\\\n\\', \\'     ]\\\\\\\\n\\', \\'    }\\\\\\\\n\\', \\'   ],\\\\\\\\n\\', \\'   \\\\\"source\\\\\": [\\\\\\\\n\\', \\'    \\\\\"f1 = open(\\\\\\\\\\\\\\\\\\\\\"abc.txt\\\\\\\\\\\\\\\\\\\\\");\\\\\\\\\\\\\\\\n\\\\\",\\\\\\\\n\\', \\'    \\\\\"lines = f1.readlines();\\\\\\\\\\\\\\\\n\\\\\",\\\\\\\\n\\', \\'    \\\\\"print(lines);\\\\\"\\\\\\\\n\\', \\'   ]\\\\\\\\n\\', \\'  },\\\\\\\\n\\', \\'  {\\\\\\\\n\\', \\'   \\\\\"cell_type\\\\\": \\\\\"markdown\\\\\",\\\\\\\\n\\', \\'   \\\\\"metadata\\\\\": {},\\\\\\\\n\\', \\'   \\\\\"source\\\\\": [\\\\\\\\n\\', \\'    \\\\\"### 02) WAP to print program it self on console.\\\\\"\\\\\\\\n\\', \\'   ]\\\\\\\\n\\', \\'  },\\\\\\\\n\\', \\'  {\\\\\\\\n\\', \\'   \\\\\"cell_type\\\\\": \\\\\"code\\\\\",\\\\\\\\n\\', \\'   \\\\\"execution_count\\\\\": null,\\\\\\\\n\\', \\'   \\\\\"metadata\\\\\": {},\\\\\\\\n\\', \\'   \\\\\"outputs\\\\\": [],\\\\\\\\n\\', \\'   \\\\\"source\\\\\": []\\\\\\\\n\\', \\'  },\\\\\\\\n\\', \\'  {\\\\\\\\n\\', \\'   \\\\\"cell_type\\\\\": \\\\\"markdown\\\\\",\\\\\\\\n\\', \\'   \\\\\"metadata\\\\\": {},\\\\\\\\n\\', \\'   \\\\\"source\\\\\": [\\\\\\\\n\\', \\'    \\\\\"### 03) WAP to read first 5 lines from the file named abc.txt\\\\\"\\\\\\\\n\\', \\'   ]\\\\\\\\n\\', \\'  },\\\\\\\\n\\', \\'  {\\\\\\\\n\\', \\'   \\\\\"cell_type\\\\\": \\\\\"code\\\\\",\\\\\\\\n\\', \\'   \\\\\"execution_count\\\\\": null,\\\\\\\\n\\', \\'   \\\\\"metadata\\\\\": {},\\\\\\\\n\\', \\'   \\\\\"outputs\\\\\": [],\\\\\\\\n\\', \\'   \\\\\"source\\\\\": []\\\\\\\\n\\', \\'  },\\\\\\\\n\\', \\'  {\\\\\\\\n\\', \\'   \\\\\"cell_type\\\\\": \\\\\"markdown\\\\\",\\\\\\\\n\\', \\'   \\\\\"metadata\\\\\": {},\\\\\\\\n\\', \\'   \\\\\"source\\\\\": [\\\\\\\\n\\', \\'    \\\\\"### 04) WAP to find the longest word in a file named abc.txt\\\\\"\\\\\\\\n\\', \\'   ]\\\\\\\\n\\', \\'  },\\\\\\\\n\\', \\'  {\\\\\\\\n\\', \\'   \\\\\"cell_type\\\\\": \\\\\"code\\\\\",\\\\\\\\n\\', \\'   \\\\\"execution_count\\\\\": null,\\\\\\\\n\\', \\'   \\\\\"metadata\\\\\": {},\\\\\\\\n\\', \\'   \\\\\"outputs\\\\\": [],\\\\\\\\n\\', \\'   \\\\\"source\\\\\": []\\\\\\\\n\\', \\'  },\\\\\\\\n\\', \\'  {\\\\\\\\n\\', \\'   \\\\\"cell_type\\\\\": \\\\\"markdown\\\\\",\\\\\\\\n\\', \\'   \\\\\"metadata\\\\\": {},\\\\\\\\n\\', \\'   \\\\\"source\\\\\": [\\\\\\\\n\\', \\'    \\\\\"### 05) WAP to find the size of the file named abc.txt\\\\\"\\\\\\\\n\\', \\'   ]\\\\\\\\n\\', \\'  },\\\\\\\\n\\', \\'  {\\\\\\\\n\\', \\'   \\\\\"cell_type\\\\\": \\\\\"code\\\\\",\\\\\\\\n\\', \\'   \\\\\"execution_count\\\\\": null,\\\\\\\\n\\', \\'   \\\\\"metadata\\\\\": {},\\\\\\\\n\\', \\'   \\\\\"outputs\\\\\": [],\\\\\\\\n\\', \\'   \\\\\"source\\\\\": []\\\\\\\\n\\', \\'  },\\\\\\\\n\\', \\'  {\\\\\\\\n\\', \\'   \\\\\"cell_type\\\\\": \\\\\"markdown\\\\\",\\\\\\\\n\\', \\'   \\\\\"metadata\\\\\": {},\\\\\\\\n\\', \\'   \\\\\"source\\\\\": [\\\\\\\\n\\', \\'    \\\\\"### 06) WAP to implement search function to search specific occurance of word in a given text file.\\\\\"\\\\\\\\n\\', \\'   ]\\\\\\\\n\\', \\'  },\\\\\\\\n\\', \\'  {\\\\\\\\n\\', \\'   \\\\\"cell_type\\\\\": \\\\\"code\\\\\",\\\\\\\\n\\', \\'   \\\\\"execution_count\\\\\": null,\\\\\\\\n\\', \\'   \\\\\"metadata\\\\\": {},\\\\\\\\n\\', \\'   \\\\\"outputs\\\\\": [],\\\\\\\\n\\', \\'   \\\\\"source\\\\\": []\\\\\\\\n\\', \\'  },\\\\\\\\n\\', \\'  {\\\\\\\\n\\', \\'   \\\\\"cell_type\\\\\": \\\\\"markdown\\\\\",\\\\\\\\n\\', \\'   \\\\\"metadata\\\\\": {},\\\\\\\\n\\', \\'   \\\\\"source\\\\\": [\\\\\\\\n\\', \\'    \\\\\"# B\\\\\"\\\\\\\\n\\', \\'   ]\\\\\\\\n\\', \\'  },\\\\\\\\n\\', \\'  {\\\\\\\\n\\', \\'   \\\\\"cell_type\\\\\": \\\\\"markdown\\\\\",\\\\\\\\n\\', \\'   \\\\\"metadata\\\\\": {},\\\\\\\\n\\', \\'   \\\\\"source\\\\\": [\\\\\\\\n\\', \\'    \\\\\"### 01) WAP to write first 100 prime numbers to a file named primenumbers.txt \\\\\\\\\\\\\\\\n\\\\\",\\\\\\\\n\\', \\'    \\\\\"(Note: each number should be in new line)\\\\\"\\\\\\\\n\\', \\'   ]\\\\\\\\n\\', \\'  },\\\\\\\\n\\', \\'  {\\\\\\\\n\\', \\'   \\\\\"cell_type\\\\\": \\\\\"code\\\\\",\\\\\\\\n\\', \\'   \\\\\"execution_count\\\\\": null,\\\\\\\\n\\', \\'   \\\\\"metadata\\\\\": {},\\\\\\\\n\\', \\'   \\\\\"outputs\\\\\": [],\\\\\\\\n\\', \\'   \\\\\"source\\\\\": []\\\\\\\\n\\', \\'  },\\\\\\\\n\\', \\'  {\\\\\\\\n\\', \\'   \\\\\"cell_type\\\\\": \\\\\"markdown\\\\\",\\\\\\\\n\\', \\'   \\\\\"metadata\\\\\": {},\\\\\\\\n\\', \\'   \\\\\"source\\\\\": [\\\\\\\\n\\', \\'    \\\\\"### 02) WAP to merge two files and write it in a new file.\\\\\"\\\\\\\\n\\', \\'   ]\\\\\\\\n\\', \\'  },\\\\\\\\n\\', \\'  {\\\\\\\\n\\', \\'   \\\\\"cell_type\\\\\": \\\\\"code\\\\\",\\\\\\\\n\\', \\'   \\\\\"execution_count\\\\\": null,\\\\\\\\n\\', \\'   \\\\\"metadata\\\\\": {},\\\\\\\\n\\', \\'   \\\\\"outputs\\\\\": [],\\\\\\\\n\\', \\'   \\\\\"source\\\\\": []\\\\\\\\n\\', \\'  },\\\\\\\\n\\', \\'  {\\\\\\\\n\\', \\'   \\\\\"cell_type\\\\\": \\\\\"markdown\\\\\",\\\\\\\\n\\', \\'   \\\\\"metadata\\\\\": {},\\\\\\\\n\\', \\'   \\\\\"source\\\\\": [\\\\\\\\n\\', \\'    \\\\\"### 03) WAP to encrypt a text file.\\\\\"\\\\\\\\n\\', \\'   ]\\\\\\\\n\\', \\'  },\\\\\\\\n\\', \\'  {\\\\\\\\n\\', \\'   \\\\\"cell_type\\\\\": \\\\\"code\\\\\",\\\\\\\\n\\', \\'   \\\\\"execution_count\\\\\": null,\\\\\\\\n\\', \\'   \\\\\"metadata\\\\\": {},\\\\\\\\n\\', \\'   \\\\\"outputs\\\\\": [],\\\\\\\\n\\', \\'   \\\\\"source\\\\\": []\\\\\\\\n\\', \\'  },\\\\\\\\n\\', \\'  {\\\\\\\\n\\', \\'   \\\\\"cell_type\\\\\": \\\\\"markdown\\\\\",\\\\\\\\n\\', \\'   \\\\\"metadata\\\\\": {},\\\\\\\\n\\', \\'   \\\\\"source\\\\\": [\\\\\\\\n\\', \\'    \\\\\"### 04) WAP to decrypt a previously encrypted file.\\\\\"\\\\\\\\n\\', \\'   ]\\\\\\\\n\\', \\'  },\\\\\\\\n\\', \\'  {\\\\\\\\n\\', \\'   \\\\\"cell_type\\\\\": \\\\\"code\\\\\",\\\\\\\\n\\', \\'   \\\\\"execution_count\\\\\": null,\\\\\\\\n\\', \\'   \\\\\"metadata\\\\\": {},\\\\\\\\n\\', \\'   \\\\\"outputs\\\\\": [],\\\\\\\\n\\', \\'   \\\\\"source\\\\\": []\\\\\\\\n\\', \\'  },\\\\\\\\n\\', \\'  {\\\\\\\\n\\', \\'   \\\\\"cell_type\\\\\": \\\\\"markdown\\\\\",\\\\\\\\n\\', \\'   \\\\\"metadata\\\\\": {},\\\\\\\\n\\', \\'   \\\\\"source\\\\\": [\\\\\\\\n\\', \\'    \\\\\"### 05) WAP to remove a word from text file.\\\\\"\\\\\\\\n\\', \\'   ]\\\\\\\\n\\', \\'  },\\\\\\\\n\\', \\'  {\\\\\\\\n\\', \\'   \\\\\"cell_type\\\\\": \\\\\"code\\\\\",\\\\\\\\n\\', \\'   \\\\\"execution_count\\\\\": null,\\\\\\\\n\\', \\'   \\\\\"metadata\\\\\": {},\\\\\\\\n\\', \\'   \\\\\"outputs\\\\\": [],\\\\\\\\n\\', \\'   \\\\\"source\\\\\": []\\\\\\\\n\\', \\'  }\\\\\\\\n\\', \\' ],\\\\\\\\n\\', \\' \\\\\"metadata\\\\\": {\\\\\\\\n\\', \\'  \\\\\"kernelspec\\\\\": {\\\\\\\\n\\', \\'   \\\\\"display_name\\\\\": \\\\\"Python 3\\\\\",\\\\\\\\n\\', \\'   \\\\\"language\\\\\": \\\\\"python\\\\\",\\\\\\\\n\\', \\'   \\\\\"name\\\\\": \\\\\"python3\\\\\"\\\\\\\\n\\', \\'  },\\\\\\\\n\\', \\'  \\\\\"language_info\\\\\": {\\\\\\\\n\\', \\'   \\\\\"codemirror_mode\\\\\": {\\\\\\\\n\\', \\'    \\\\\"name\\\\\": \\\\\"ipython\\\\\",\\\\\\\\n\\', \\'    \\\\\"version\\\\\": 3\\\\\\\\n\\', \\'   },\\\\\\\\n\\', \\'   \\\\\"file_extension\\\\\": \\\\\".py\\\\\",\\\\\\\\n\\', \\'   \\\\\"mimetype\\\\\": \\\\\"text/x-python\\\\\",\\\\\\\\n\\', \\'   \\\\\"name\\\\\": \\\\\"python\\\\\",\\\\\\\\n\\', \\'   \\\\\"nbconvert_exporter\\\\\": \\\\\"python\\\\\",\\\\\\\\n\\', \\'   \\\\\"pygments_lexer\\\\\": \\\\\"ipython3\\\\\",\\\\\\\\n\\', \\'   \\\\\"version\\\\\": \\\\\"3.11.0\\\\\"\\\\\\\\n\\', \\'  },\\\\\\\\n\\', \\'  \\\\\"vscode\\\\\": {\\\\\\\\n\\', \\'   \\\\\"interpreter\\\\\": {\\\\\\\\n\\', \\'    \\\\\"hash\\\\\": \\\\\"c8253c40f5a8e8444123cac8c8376aceee680d85e33b38d3d60136e9ad5d08d7\\\\\"\\\\\\\\n\\', \\'   }\\\\\\\\n\\', \\'  }\\\\\\\\n\\', \\' },\\\\\\\\n\\', \\' \\\\\"nbformat\\\\\": 4,\\\\\\\\n\\', \\' \\\\\"nbformat_minor\\\\\": 4\\\\\\\\n\\', \\'}\\\\\\\\n\\']\\\\n\"\\n', '     ]\\n', '    }\\n', '   ],\\n', '   \"source\": [\\n', '    \"f1 = open(\\\\\"Lab_08.ipynb\\\\\");\\\\n\",\\n', '    \"lines = f1.readlines();\\\\n\",\\n', '    \"print(lines);\"\\n', '   ]\\n', '  },\\n', '  {\\n', '   \"cell_type\": \"markdown\",\\n', '   \"metadata\": {},\\n', '   \"source\": [\\n', '    \"### 03) WAP to read first 5 lines from the file named abc.txt\"\\n', '   ]\\n', '  },\\n', '  {\\n', '   \"cell_type\": \"code\",\\n', '   \"execution_count\": null,\\n', '   \"metadata\": {},\\n', '   \"outputs\": [],\\n', '   \"source\": []\\n', '  },\\n', '  {\\n', '   \"cell_type\": \"markdown\",\\n', '   \"metadata\": {},\\n', '   \"source\": [\\n', '    \"### 04) WAP to find the longest word in a file named abc.txt\"\\n', '   ]\\n', '  },\\n', '  {\\n', '   \"cell_type\": \"code\",\\n', '   \"execution_count\": null,\\n', '   \"metadata\": {},\\n', '   \"outputs\": [],\\n', '   \"source\": []\\n', '  },\\n', '  {\\n', '   \"cell_type\": \"markdown\",\\n', '   \"metadata\": {},\\n', '   \"source\": [\\n', '    \"### 05) WAP to find the size of the file named abc.txt\"\\n', '   ]\\n', '  },\\n', '  {\\n', '   \"cell_type\": \"code\",\\n', '   \"execution_count\": null,\\n', '   \"metadata\": {},\\n', '   \"outputs\": [],\\n', '   \"source\": []\\n', '  },\\n', '  {\\n', '   \"cell_type\": \"markdown\",\\n', '   \"metadata\": {},\\n', '   \"source\": [\\n', '    \"### 06) WAP to implement search function to search specific occurance of word in a given text file.\"\\n', '   ]\\n', '  },\\n', '  {\\n', '   \"cell_type\": \"code\",\\n', '   \"execution_count\": null,\\n', '   \"metadata\": {},\\n', '   \"outputs\": [],\\n', '   \"source\": []\\n', '  },\\n', '  {\\n', '   \"cell_type\": \"markdown\",\\n', '   \"metadata\": {},\\n', '   \"source\": [\\n', '    \"# B\"\\n', '   ]\\n', '  },\\n', '  {\\n', '   \"cell_type\": \"markdown\",\\n', '   \"metadata\": {},\\n', '   \"source\": [\\n', '    \"### 01) WAP to write first 100 prime numbers to a file named primenumbers.txt \\\\n\",\\n', '    \"(Note: each number should be in new line)\"\\n', '   ]\\n', '  },\\n', '  {\\n', '   \"cell_type\": \"code\",\\n', '   \"execution_count\": null,\\n', '   \"metadata\": {},\\n', '   \"outputs\": [],\\n', '   \"source\": []\\n', '  },\\n', '  {\\n', '   \"cell_type\": \"markdown\",\\n', '   \"metadata\": {},\\n', '   \"source\": [\\n', '    \"### 02) WAP to merge two files and write it in a new file.\"\\n', '   ]\\n', '  },\\n', '  {\\n', '   \"cell_type\": \"code\",\\n', '   \"execution_count\": null,\\n', '   \"metadata\": {},\\n', '   \"outputs\": [],\\n', '   \"source\": []\\n', '  },\\n', '  {\\n', '   \"cell_type\": \"markdown\",\\n', '   \"metadata\": {},\\n', '   \"source\": [\\n', '    \"### 03) WAP to encrypt a text file.\"\\n', '   ]\\n', '  },\\n', '  {\\n', '   \"cell_type\": \"code\",\\n', '   \"execution_count\": null,\\n', '   \"metadata\": {},\\n', '   \"outputs\": [],\\n', '   \"source\": []\\n', '  },\\n', '  {\\n', '   \"cell_type\": \"markdown\",\\n', '   \"metadata\": {},\\n', '   \"source\": [\\n', '    \"### 04) WAP to decrypt a previously encrypted file.\"\\n', '   ]\\n', '  },\\n', '  {\\n', '   \"cell_type\": \"code\",\\n', '   \"execution_count\": null,\\n', '   \"metadata\": {},\\n', '   \"outputs\": [],\\n', '   \"source\": []\\n', '  },\\n', '  {\\n', '   \"cell_type\": \"markdown\",\\n', '   \"metadata\": {},\\n', '   \"source\": [\\n', '    \"### 05) WAP to remove a word from text file.\"\\n', '   ]\\n', '  },\\n', '  {\\n', '   \"cell_type\": \"code\",\\n', '   \"execution_count\": null,\\n', '   \"metadata\": {},\\n', '   \"outputs\": [],\\n', '   \"source\": []\\n', '  }\\n', ' ],\\n', ' \"metadata\": {\\n', '  \"kernelspec\": {\\n', '   \"display_name\": \"Python 3\",\\n', '   \"language\": \"python\",\\n', '   \"name\": \"python3\"\\n', '  },\\n', '  \"language_info\": {\\n', '   \"codemirror_mode\": {\\n', '    \"name\": \"ipython\",\\n', '    \"version\": 3\\n', '   },\\n', '   \"file_extension\": \".py\",\\n', '   \"mimetype\": \"text/x-python\",\\n', '   \"name\": \"python\",\\n', '   \"nbconvert_exporter\": \"python\",\\n', '   \"pygments_lexer\": \"ipython3\",\\n', '   \"version\": \"3.11.0\"\\n', '  },\\n', '  \"vscode\": {\\n', '   \"interpreter\": {\\n', '    \"hash\": \"c8253c40f5a8e8444123cac8c8376aceee680d85e33b38d3d60136e9ad5d08d7\"\\n', '   }\\n', '  }\\n', ' },\\n', ' \"nbformat\": 4,\\n', ' \"nbformat_minor\": 4\\n', '}\\n']\n"
     ]
    }
   ],
   "source": [
    "f1 = open(\"Lab_08.ipynb\");\n",
    "lines = f1.readlines();\n",
    "print(lines);\n",
    "f1.close();"
   ]
  },
  {
   "cell_type": "markdown",
   "metadata": {},
   "source": [
    "### 03) WAP to read first 5 lines from the file named abc.txt"
   ]
  },
  {
   "cell_type": "code",
   "execution_count": 13,
   "metadata": {},
   "outputs": [
    {
     "name": "stdout",
     "output_type": "stream",
     "text": [
      "['hello from \\n', 'abc text file\\n', 'from\\n', 'mubin seta and\\n', 'devanshu shah and \\n']\n"
     ]
    }
   ],
   "source": [
    "f1 = open(\"abc.txt\");\n",
    "lines = f1.readlines()[:5];\n",
    "print(lines);"
   ]
  },
  {
   "cell_type": "markdown",
   "metadata": {},
   "source": [
    "### 04) WAP to find the longest word in a file named abc.txt"
   ]
  },
  {
   "cell_type": "code",
   "execution_count": 3,
   "metadata": {},
   "outputs": [
    {
     "name": "stdout",
     "output_type": "stream",
     "text": [
      "devanshushah\n"
     ]
    }
   ],
   "source": [
    "f1 = open(\"abc.txt\");\n",
    "# words = f1.read().split(\" \");\n",
    "# words.sort();\n",
    "# print(words);\n",
    "lines = f1.readlines();\n",
    "longestString = \"\";\n",
    "longestlength = 0;\n",
    "for i in lines :\n",
    "  k = i.split(\" \");\n",
    "  for j in k :\n",
    "    if(len(j)>longestlength):\n",
    "      longestlength = len(j);\n",
    "      longestString = j;\n",
    "print(longestString)"
   ]
  },
  {
   "cell_type": "markdown",
   "metadata": {},
   "source": [
    "### 05) WAP to find the size of the file named abc.txt"
   ]
  },
  {
   "cell_type": "code",
   "execution_count": 7,
   "metadata": {},
   "outputs": [
    {
     "name": "stdout",
     "output_type": "stream",
     "text": [
      "95 bytes\n"
     ]
    }
   ],
   "source": [
    "import os\n",
    "n = os.path.getsize(\"abc.txt\")\n",
    "print(n,\"bytes\");"
   ]
  },
  {
   "cell_type": "markdown",
   "metadata": {},
   "source": [
    "### 06) WAP to implement search function to search specific occurance of word in a given text file."
   ]
  },
  {
   "cell_type": "code",
   "execution_count": 29,
   "metadata": {},
   "outputs": [
    {
     "name": "stdout",
     "output_type": "stream",
     "text": [
      "3  times come in word\n"
     ]
    }
   ],
   "source": [
    "word = input(\"Enter the word : \");\n",
    "f1 = open(\"abc.txt\");\n",
    "file = f1.read().replace(\"\\n\",\" \");\n",
    "count = 0;\n",
    "words = file.split(\" \");\n",
    "for i in words:\n",
    "  if(i == word):\n",
    "    count = count + 1;\n",
    "if(count == 0) :\n",
    "  print(\"Word not in file\");\n",
    "else :\n",
    "  print(count,\" times come in word\");\n"
   ]
  },
  {
   "cell_type": "markdown",
   "metadata": {},
   "source": [
    "# B"
   ]
  },
  {
   "cell_type": "markdown",
   "metadata": {},
   "source": [
    "### 01) WAP to write first 100 prime numbers to a file named primenumbers.txt \n",
    "(Note: each number should be in new line)"
   ]
  },
  {
   "cell_type": "code",
   "execution_count": 39,
   "metadata": {},
   "outputs": [],
   "source": [
    "def isPrime(n):\n",
    "    if(n<=1):\n",
    "        return False;\n",
    "    if(n==2):\n",
    "        return True;\n",
    "    for i in range (2,int(n**(1/2))+1):\n",
    "        if(n%i == 0):\n",
    "            return False;\n",
    "    return True;\n",
    "f1 = open(\"primenumbers.txt\",\"a+\");\n",
    "i = 2;\n",
    "count = 0;\n",
    "while(count <100) :\n",
    "  if (isPrime(i)):\n",
    "    f1.write(str(i)+\" \");\n",
    "    count+=1;\n",
    "  i = i+1;\n",
    "f1.close();"
   ]
  },
  {
   "cell_type": "markdown",
   "metadata": {},
   "source": [
    "### 02) WAP to merge two files and write it in a new file."
   ]
  },
  {
   "cell_type": "code",
   "execution_count": 1,
   "metadata": {},
   "outputs": [],
   "source": [
    "f1 = open(\"abc.txt\");\n",
    "f2 = open(\"def.txt\");\n",
    "f3 = open(\"combine.txt\",\"a+\");\n",
    "f3.write(f1.read()+'\\n'+f2.read());\n",
    "f3.close();\n",
    "f1.close();\n",
    "f2.close();"
   ]
  },
  {
   "cell_type": "markdown",
   "metadata": {},
   "source": [
    "### 03) WAP to encrypt a text file."
   ]
  },
  {
   "cell_type": "code",
   "execution_count": null,
   "metadata": {},
   "outputs": [],
   "source": []
  },
  {
   "cell_type": "markdown",
   "metadata": {},
   "source": [
    "### 04) WAP to decrypt a previously encrypted file."
   ]
  },
  {
   "cell_type": "code",
   "execution_count": null,
   "metadata": {},
   "outputs": [],
   "source": []
  },
  {
   "cell_type": "markdown",
   "metadata": {},
   "source": [
    "### 05) WAP to remove a word from text file."
   ]
  },
  {
   "cell_type": "code",
   "execution_count": null,
   "metadata": {},
   "outputs": [],
   "source": []
  }
 ],
 "metadata": {
  "kernelspec": {
   "display_name": "Python 3",
   "language": "python",
   "name": "python3"
  },
  "language_info": {
   "codemirror_mode": {
    "name": "ipython",
    "version": 3
   },
   "file_extension": ".py",
   "mimetype": "text/x-python",
   "name": "python",
   "nbconvert_exporter": "python",
   "pygments_lexer": "ipython3",
   "version": "3.11.0"
  },
  "vscode": {
   "interpreter": {
    "hash": "c8253c40f5a8e8444123cac8c8376aceee680d85e33b38d3d60136e9ad5d08d7"
   }
  }
 },
 "nbformat": 4,
 "nbformat_minor": 4
}
