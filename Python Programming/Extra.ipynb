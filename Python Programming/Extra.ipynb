{
 "cells": [
  {
   "cell_type": "code",
   "execution_count": 11,
   "metadata": {},
   "outputs": [
    {
     "name": "stdout",
     "output_type": "stream",
     "text": [
      "[]\n"
     ]
    }
   ],
   "source": [
    "my_list = []  # my_list = list()\n",
    "my_list = [1, 2, 3, 4]\n",
    "my_list.append(5)  # [1, 2, 3, 4, 5]\n",
    "my_list.insert(0, 7)  # [7, 1, 2, 3, 4, 5]\n",
    "my_list.extend([2, 3, 85, 4])  # [7, 1, 2, 3, 4, 5, 2, 3, 85, 4]\n",
    "my_list.pop(); # [7, 1, 2, 3, 4, 5, 2, 3, 85]\n",
    "my_list.remove(2); #[7, 1, 3, 4, 5, 2, 3, 85]\n",
    "# my_list.clear(); # []\n",
    "print(my_list)"
   ]
  },
  {
   "cell_type": "code",
   "execution_count": 16,
   "metadata": {},
   "outputs": [
    {
     "name": "stdout",
     "output_type": "stream",
     "text": [
      "<class 'range'>\n",
      "0\n",
      "2\n",
      "4\n",
      "6\n",
      "8\n",
      "10\n",
      "12\n",
      "14\n",
      "16\n",
      "18\n"
     ]
    }
   ],
   "source": [
    "x = range(0,20,2);\n",
    "print(type(x));\n",
    "for i in x:\n",
    "  print(i)"
   ]
  },
  {
   "cell_type": "code",
   "execution_count": 2,
   "metadata": {},
   "outputs": [
    {
     "name": "stdout",
     "output_type": "stream",
     "text": [
      "{10: 20, 20: 30, 40: 50}\n"
     ]
    },
    {
     "ename": "KeyError",
     "evalue": "30",
     "output_type": "error",
     "traceback": [
      "\u001b[1;31m---------------------------------------------------------------------------\u001b[0m",
      "\u001b[1;31mKeyError\u001b[0m                                  Traceback (most recent call last)",
      "Cell \u001b[1;32mIn[2], line 4\u001b[0m\n\u001b[0;32m      2\u001b[0m check[\u001b[39m40\u001b[39m] \u001b[39m=\u001b[39m \u001b[39m50\u001b[39m;\n\u001b[0;32m      3\u001b[0m \u001b[39mprint\u001b[39m(check);\n\u001b[1;32m----> 4\u001b[0m \u001b[39mif\u001b[39;00m(check[\u001b[39m30\u001b[39;49m]\u001b[39m==\u001b[39m\u001b[39m40\u001b[39m):\n\u001b[0;32m      5\u001b[0m   \u001b[39mprint\u001b[39m(\u001b[39m\"\u001b[39m\u001b[39mtrue\u001b[39m\u001b[39m\"\u001b[39m);\n",
      "\u001b[1;31mKeyError\u001b[0m: 30"
     ]
    }
   ],
   "source": [
    "check = {10:20,20:30}\n",
    "check[40] = 50;\n",
    "print(check);\n",
    "if(check[30]==40):\n",
    "  print(\"true\");"
   ]
  },
  {
   "cell_type": "code",
   "execution_count": 6,
   "metadata": {},
   "outputs": [
    {
     "name": "stdout",
     "output_type": "stream",
     "text": [
      "divyank raja\n",
      "\n"
     ]
    }
   ],
   "source": [
    "f1 = open(\"abc.txt\");\n",
    "x = f1.readlines()[50];\n",
    "print(x);"
   ]
  },
  {
   "cell_type": "code",
   "execution_count": 17,
   "metadata": {},
   "outputs": [],
   "source": [
    "for temp in range(5):\n",
    "  pass;"
   ]
  }
 ],
 "metadata": {
  "kernelspec": {
   "display_name": "Python 3",
   "language": "python",
   "name": "python3"
  },
  "language_info": {
   "codemirror_mode": {
    "name": "ipython",
    "version": 3
   },
   "file_extension": ".py",
   "mimetype": "text/x-python",
   "name": "python",
   "nbconvert_exporter": "python",
   "pygments_lexer": "ipython3",
   "version": "3.11.0"
  },
  "orig_nbformat": 4,
  "vscode": {
   "interpreter": {
    "hash": "c8253c40f5a8e8444123cac8c8376aceee680d85e33b38d3d60136e9ad5d08d7"
   }
  }
 },
 "nbformat": 4,
 "nbformat_minor": 2
}
