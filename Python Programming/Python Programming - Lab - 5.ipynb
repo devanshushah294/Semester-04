{
 "cells": [
  {
   "cell_type": "markdown",
   "metadata": {},
   "source": [
    "\n",
    "<a href='https://www.darshan.ac.in/'> <img src='https://www.darshan.ac.in/Content/media/DU_Logo.svg' width=\"250\" height=\"300\"/></a>\n",
    "<pre>\n",
    "<center><b><h1>Python Programming - 2101CS405</b></center>\n",
    "<center><b><h1>Lab - 5</b></center>    \n",
    "<pre>"
   ]
  },
  {
   "cell_type": "markdown",
   "metadata": {},
   "source": [
    "# list"
   ]
  },
  {
   "cell_type": "markdown",
   "metadata": {},
   "source": [
    "### 01) WAP to find sum of all the elements in List."
   ]
  },
  {
   "cell_type": "code",
   "execution_count": 1,
   "metadata": {},
   "outputs": [
    {
     "name": "stdout",
     "output_type": "stream",
     "text": [
      "60\n"
     ]
    }
   ],
   "source": [
    "numbers = [10,20,30];\n",
    "sum = 0;\n",
    "for i in numbers:\n",
    "    sum = sum + i;\n",
    "print(sum);"
   ]
  },
  {
   "cell_type": "markdown",
   "metadata": {},
   "source": [
    "### 02) WAP to find largest element in a List."
   ]
  },
  {
   "cell_type": "code",
   "execution_count": 4,
   "metadata": {},
   "outputs": [
    {
     "name": "stdout",
     "output_type": "stream",
     "text": [
      "30\n"
     ]
    }
   ],
   "source": [
    "numbers = [10,20,30];\n",
    "largestNumber = 0;\n",
    "for i in numbers :\n",
    "    if(largestNumber<i) :\n",
    "        largestNumber = i;\n",
    "print (largestNumber);"
   ]
  },
  {
   "cell_type": "markdown",
   "metadata": {},
   "source": [
    "### 03) WAP to split the List into two and append the first part to the end."
   ]
  },
  {
   "cell_type": "code",
   "execution_count": 9,
   "metadata": {},
   "outputs": [
    {
     "name": "stdout",
     "output_type": "stream",
     "text": [
      "['hello', 'world', 'from', 'python']\n"
     ]
    }
   ],
   "source": [
    "list1 = [\"hello\",\"world\"];\n",
    "list2 = [\"from\", \"python\"];\n",
    "list1.extend(list2);\n",
    "print(list1);"
   ]
  },
  {
   "cell_type": "markdown",
   "metadata": {},
   "source": [
    "### 04) WAP to interchange first and last elements in list entered by a user."
   ]
  },
  {
   "cell_type": "code",
   "execution_count": 2,
   "metadata": {
    "scrolled": true
   },
   "outputs": [
    {
     "name": "stdout",
     "output_type": "stream",
     "text": [
      "Enter the size of list : 3\n",
      "Enter the number : 2\n",
      "Enter the number : 3\n",
      "Enter the number : 4\n",
      "[4, 3, 2]\n"
     ]
    }
   ],
   "source": [
    "n = int(input(\"Enter the size of list : \"));\n",
    "list = [];\n",
    "for i in range(0,n):\n",
    "    list.append(int(input(\"Enter the number : \")));\n",
    "extra = list[0];\n",
    "list[0] = list[len(list)-1];\n",
    "list[len(list)-1] = extra;\n",
    "print(list);"
   ]
  },
  {
   "cell_type": "markdown",
   "metadata": {},
   "source": [
    "### 05) WAP to interchange the elements on two positions entered by a user."
   ]
  },
  {
   "cell_type": "code",
   "execution_count": 3,
   "metadata": {},
   "outputs": [
    {
     "name": "stdout",
     "output_type": "stream",
     "text": [
      "Enter the size of list : 3\n",
      "Enter the number : 25\n",
      "Enter the number : 36\n",
      "Enter the number : 96\n",
      "Enter the position11\n",
      "Enter the position22\n",
      "[25, 96, 36]\n"
     ]
    }
   ],
   "source": [
    "n = int(input(\"Enter the size of list : \"));\n",
    "list = [];\n",
    "for i in range(0,n):\n",
    "    list.append(int(input(\"Enter the number : \")));\n",
    "position1 = int(input(\"Enter the position1 : \"));\n",
    "position2 = int(input(\"Enter the position2 : \"));\n",
    "extra = list[position1];\n",
    "list[position1] = list[position2];\n",
    "list[position2] = extra;\n",
    "print(list);"
   ]
  },
  {
   "cell_type": "markdown",
   "metadata": {},
   "source": [
    "### 06) WAP to reverses the list entered by user."
   ]
  },
  {
   "cell_type": "code",
   "execution_count": 8,
   "metadata": {},
   "outputs": [
    {
     "name": "stdout",
     "output_type": "stream",
     "text": [
      "Enter the length of list : 3\n",
      "Enter the number : 1\n",
      "Enter the number : 2\n",
      "Enter the number : 3\n",
      "[3, 2, 1]\n"
     ]
    }
   ],
   "source": [
    "list = [];\n",
    "n = int(input(\"Enter the length of list : \"));\n",
    "for i in range(0,n):\n",
    "    list.append(int(input(\"Enter the number : \")));\n",
    "list2 = [];\n",
    "i = len(list)-1;\n",
    "while(i>-1):\n",
    "    list2.append(list[i]);\n",
    "    i = i-1;\n",
    "print(list2);"
   ]
  },
  {
   "cell_type": "markdown",
   "metadata": {},
   "source": [
    "### 07) Python program to remove multiple elements from a list using list comprehension"
   ]
  },
  {
   "cell_type": "code",
   "execution_count": 10,
   "metadata": {},
   "outputs": [
    {
     "name": "stdout",
     "output_type": "stream",
     "text": [
      "[10, 20, 30]\n"
     ]
    }
   ],
   "source": [
    "list = [0,5,10,15,20,25,30];\n",
    "list2 = [x for x in list if(x%2==0 and x>0)]\n",
    "print(list2);"
   ]
  },
  {
   "cell_type": "markdown",
   "metadata": {},
   "source": [
    "### 08) Create a list from the specified start to end index of another list."
   ]
  },
  {
   "cell_type": "code",
   "execution_count": 6,
   "metadata": {},
   "outputs": [
    {
     "name": "stdout",
     "output_type": "stream",
     "text": [
      "Enter the length of list : 5\n",
      "Enter the number : 1\n",
      "Enter the number : 2\n",
      "Enter the number : 3\n",
      "Enter the number : 4\n",
      "Enter the number : 5\n",
      "Enter the index : 2\n",
      "[3, 4, 5]\n"
     ]
    }
   ],
   "source": [
    "list = [];\n",
    "n = int(input(\"Enter the length of list : \"));\n",
    "for i in range(0,n):\n",
    "    list.append(int(input(\"Enter the number : \")));\n",
    "index = int(input(\"Enter the index : \"));\n",
    "list2 = [];\n",
    "while(index<len(list)):\n",
    "    list2.append(list[index]);\n",
    "    index = index + 1;\n",
    "print(list2);"
   ]
  },
  {
   "cell_type": "markdown",
   "metadata": {},
   "source": [
    "### 09) Input comma separated elements, convert into list and print."
   ]
  },
  {
   "cell_type": "code",
   "execution_count": 7,
   "metadata": {},
   "outputs": [
    {
     "name": "stdout",
     "output_type": "stream",
     "text": [
      "Enter the stringhello,world,from,python\n",
      "['hello', 'world', 'from', 'python']\n"
     ]
    }
   ],
   "source": [
    "elements_string = input(\"Enter the string\");\n",
    "list = elements_string.split(\",\");\n",
    "print(list);"
   ]
  },
  {
   "cell_type": "markdown",
   "metadata": {},
   "source": [
    "### 01) WAP to count Even and Odd numbers in a List."
   ]
  },
  {
   "cell_type": "code",
   "execution_count": 8,
   "metadata": {},
   "outputs": [
    {
     "name": "stdout",
     "output_type": "stream",
     "text": [
      "Odd numbers :  5\n",
      "Even numbers :  4\n"
     ]
    }
   ],
   "source": [
    "odd_numbers = 0;\n",
    "even_numbers = 0;\n",
    "list = [1,2,3,4,5,6,7,8,9]\n",
    "for i in list:\n",
    "    if(i%2==0):\n",
    "        even_numbers = even_numbers + 1;\n",
    "    else:\n",
    "        odd_numbers = odd_numbers + 1;\n",
    "print(\"Odd numbers : \",odd_numbers);\n",
    "print(\"Even numbers : \",even_numbers)"
   ]
  },
  {
   "cell_type": "markdown",
   "metadata": {},
   "source": [
    "### 02) Python program to find N largest and smallest elements from the list"
   ]
  },
  {
   "cell_type": "code",
   "execution_count": null,
   "metadata": {},
   "outputs": [],
   "source": []
  },
  {
   "cell_type": "markdown",
   "metadata": {},
   "source": [
    "### 03) WAP to print duplicates from a list of integers"
   ]
  },
  {
   "cell_type": "code",
   "execution_count": null,
   "metadata": {},
   "outputs": [],
   "source": []
  }
 ],
 "metadata": {
  "kernelspec": {
   "display_name": "Python 3 (ipykernel)",
   "language": "python",
   "name": "python3"
  },
  "language_info": {
   "codemirror_mode": {
    "name": "ipython",
    "version": 3
   },
   "file_extension": ".py",
   "mimetype": "text/x-python",
   "name": "python",
   "nbconvert_exporter": "python",
   "pygments_lexer": "ipython3",
   "version": "3.9.7"
  }
 },
 "nbformat": 4,
 "nbformat_minor": 4
}
