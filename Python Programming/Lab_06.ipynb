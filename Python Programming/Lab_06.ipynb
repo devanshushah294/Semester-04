{
 "cells": [
  {
   "cell_type": "markdown",
   "metadata": {},
   "source": [
    "<a href='https://www.darshan.ac.in/'> <img src='https://www.darshan.ac.in/Content/media/DU_Logo.svg' width=\"250\" height=\"300\"/></a>\n",
    "<pre>\n",
    "<center><b><h1>Python Programming - 2101CS405</b></center>\n",
    "<center><b><h1>Lab - 6</b></center>    \n",
    "<pre>"
   ]
  },
  {
   "cell_type": "markdown",
   "metadata": {},
   "source": [
    "# Tuples, dictionary, set"
   ]
  },
  {
   "cell_type": "markdown",
   "metadata": {},
   "source": [
    "# A"
   ]
  },
  {
   "cell_type": "markdown",
   "metadata": {},
   "source": [
    "### 01) WAP to sort python dictionary by key or value."
   ]
  },
  {
   "cell_type": "code",
   "execution_count": 2,
   "metadata": {},
   "outputs": [
    {
     "name": "stdout",
     "output_type": "stream",
     "text": [
      "{'class': 'c', 'name': 'Devashu', 'rollNo': '25', 'sem': '4', 'surname': 'Shah'}\n"
     ]
    }
   ],
   "source": [
    "myDict = {\"name\":\"Devashu\",\"surname\":\"Shah\",\"rollNo\":\"25\",\"class\":\"c\",\"sem\":\"4\"};\n",
    "answer = dict(sorted(myDict.items(), key = lambda x:x[0]));\n",
    "print(answer);"
   ]
  },
  {
   "cell_type": "code",
   "execution_count": 12,
   "metadata": {},
   "outputs": [
    {
     "name": "stdout",
     "output_type": "stream",
     "text": [
      "{'a': 4, 'b': 3, 'c': 3, 'd': 2, 'g': 1, 'h': 1, 'j': 1}\n"
     ]
    }
   ],
   "source": [
    "myDict = {\"name\":\"Devashu\",\"surname\":\"Shah\",\"rollNo\":\"25\",\"class\":\"c\",\"sem\":\"4\"};\n",
    "dict(sorted(myDict.items(), key = lambda x:x[1]));\n",
    "print(answer);"
   ]
  },
  {
   "cell_type": "markdown",
   "metadata": {},
   "source": [
    "### 02) WAP to merge two dictionaries given by user."
   ]
  },
  {
   "cell_type": "code",
   "execution_count": 14,
   "metadata": {},
   "outputs": [
    {
     "name": "stdout",
     "output_type": "stream",
     "text": [
      "enter the size:1\n",
      "Enter the key : Mubin\n",
      "Enter the value : Seta\n",
      "enter the size:1\n",
      "Enter the key : Devanshu\n",
      "Enter the value : Shah\n"
     ]
    },
    {
     "data": {
      "text/plain": [
       "{'Mubin': 'Seta', 'Devanshu': 'Shah'}"
      ]
     },
     "execution_count": 14,
     "metadata": {},
     "output_type": "execute_result"
    }
   ],
   "source": [
    "n = int(input(\"enter the size:\"));\n",
    "myDict = {};\n",
    "while(n> 0):\n",
    "    key = input(\"Enter the key : \");\n",
    "    value = input(\"Enter the value : \");\n",
    "    myDict[key] = value;\n",
    "    n = n-1;\n",
    "n = int(input(\"enter the size:\"));\n",
    "myDict2 = {};\n",
    "while(n> 0):\n",
    "    key = input(\"Enter the key : \");\n",
    "    value = input(\"Enter the value : \");\n",
    "    myDict2[key] = value;\n",
    "    n = n-1;\n",
    "myDict3 = myDict|myDict2;\n",
    "myDict3"
   ]
  },
  {
   "cell_type": "markdown",
   "metadata": {},
   "source": [
    "### 03) WAP to find tuples that have all elements divisible by K from a list of tuples."
   ]
  },
  {
   "cell_type": "code",
   "execution_count": 19,
   "metadata": {},
   "outputs": [
    {
     "name": "stdout",
     "output_type": "stream",
     "text": [
      "Enter the k : 2\n"
     ]
    },
    {
     "data": {
      "text/plain": [
       "[(4, 6)]"
      ]
     },
     "execution_count": 19,
     "metadata": {},
     "output_type": "execute_result"
    }
   ],
   "source": [
    "k = int(input(\"Enter the k : \"));\n",
    "list = [(1,2,3),(4,6),(6,7,8)];\n",
    "list2 = []; \n",
    "for i in list:\n",
    "    check = True;\n",
    "    for j in i:\n",
    "        if(j%k!=0):\n",
    "            check = False;\n",
    "            break;\n",
    "    if(check):\n",
    "        list2.append(i);\n",
    "list2 "
   ]
  },
  {
   "cell_type": "markdown",
   "metadata": {},
   "source": [
    "### 04) WAP to find Tuples with positive elements in List of tuples."
   ]
  },
  {
   "cell_type": "code",
   "execution_count": 1,
   "metadata": {},
   "outputs": [
    {
     "name": "stdout",
     "output_type": "stream",
     "text": [
      "[(1, 2, 3), (4, 6), (6, 7, 8)]\n"
     ]
    }
   ],
   "source": [
    "list = [(1,2,3),(4,6),(6,7,8)];\n",
    "list2 = []; \n",
    "for i in list:\n",
    "    check = True;\n",
    "    for j in i:\n",
    "        if(j<0):\n",
    "            check = False;\n",
    "            break;\n",
    "    if(check):\n",
    "        list2.append(i);\n",
    "print(list2);"
   ]
  },
  {
   "cell_type": "markdown",
   "metadata": {},
   "source": [
    "### 05) WAP which perform union of two sets."
   ]
  },
  {
   "cell_type": "code",
   "execution_count": 9,
   "metadata": {},
   "outputs": [
    {
     "data": {
      "text/plain": [
       "{1, 2, 3, 4, 5}"
      ]
     },
     "execution_count": 9,
     "metadata": {},
     "output_type": "execute_result"
    }
   ],
   "source": [
    "set1 = {1,2,3,4};\n",
    "set2 = {2,3,4,5};\n",
    "set3 = set1.union(set2);\n",
    "set3"
   ]
  },
  {
   "cell_type": "markdown",
   "metadata": {},
   "source": [
    "# B"
   ]
  },
  {
   "cell_type": "markdown",
   "metadata": {},
   "source": [
    "### 01) WAP to convert binary tuple into integer."
   ]
  },
  {
   "cell_type": "code",
   "execution_count": 2,
   "metadata": {},
   "outputs": [
    {
     "name": "stdout",
     "output_type": "stream",
     "text": [
      "10\n"
     ]
    }
   ],
   "source": [
    "tup = (1,0,1,0);\n",
    "answer = 0;\n",
    "for a in tup:\n",
    "  answer = answer*2+a\n",
    "print(answer);"
   ]
  },
  {
   "cell_type": "markdown",
   "metadata": {},
   "source": [
    "### 02) WAP to count frequency in list by dictionary."
   ]
  },
  {
   "cell_type": "code",
   "execution_count": 6,
   "metadata": {},
   "outputs": [
    {
     "name": "stdout",
     "output_type": "stream",
     "text": [
      "{'a': 4, 'b': 3, 'c': 3, 'd': 2, 'g': 1, 'h': 1, 'j': 1}\n"
     ]
    }
   ],
   "source": [
    "a = ['a','a','b','c','a','d','g','h','j','a','c','b','c','b','d'];\n",
    "answer = dict()\n",
    "for i in a:\n",
    "  if(answer.keys().__contains__(i)):\n",
    "    answer[i] = answer[i]+1;\n",
    "  else:\n",
    "    answer[i] = 1;\n",
    "print(answer);"
   ]
  },
  {
   "cell_type": "markdown",
   "metadata": {},
   "source": [
    "### 03) WAP to remove all the duplicate words from the list using dictionary."
   ]
  },
  {
   "cell_type": "code",
   "execution_count": 8,
   "metadata": {},
   "outputs": [
    {
     "name": "stdout",
     "output_type": "stream",
     "text": [
      "['hello', 'words', 'program', 'darshan', 'uni']\n"
     ]
    }
   ],
   "source": [
    "a = [\"hello\",\"words\",\"program\",\"darshan\",\"uni\",\"hello\",\"hello\",\"uni\"];\n",
    "di = {};\n",
    "for i in a:\n",
    "  if i in di.keys():\n",
    "    pass\n",
    "  else:\n",
    "    di[i] = 1;\n",
    "print(list(di.keys()))"
   ]
  }
 ],
 "metadata": {
  "kernelspec": {
   "display_name": "Python 3",
   "language": "python",
   "name": "python3"
  },
  "language_info": {
   "codemirror_mode": {
    "name": "ipython",
    "version": 3
   },
   "file_extension": ".py",
   "mimetype": "text/x-python",
   "name": "python",
   "nbconvert_exporter": "python",
   "pygments_lexer": "ipython3",
   "version": "3.11.0"
  },
  "vscode": {
   "interpreter": {
    "hash": "c8253c40f5a8e8444123cac8c8376aceee680d85e33b38d3d60136e9ad5d08d7"
   }
  }
 },
 "nbformat": 4,
 "nbformat_minor": 4
}
