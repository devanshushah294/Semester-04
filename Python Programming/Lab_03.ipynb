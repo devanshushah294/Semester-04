{
 "cells": [
  {
   "cell_type": "markdown",
   "metadata": {},
   "source": [
    "\n",
    "<a href='https://www.darshan.ac.in/'> <img src='https://www.darshan.ac.in/Content/media/DU_Logo.svg' width=\"250\" height=\"300\"/></a>\n",
    "<pre>\n",
    "<center><b><h1>Python Programming - 2101CS405</b></center>\n",
    "<center><b><h1>Lab - 3</b></center>    \n",
    "<pre>"
   ]
  },
  {
   "cell_type": "markdown",
   "metadata": {},
   "source": [
    "# for and while loop"
   ]
  },
  {
   "cell_type": "markdown",
   "metadata": {},
   "source": [
    "### 01) WAP to print 1 to 10"
   ]
  },
  {
   "cell_type": "code",
   "execution_count": 4,
   "metadata": {},
   "outputs": [
    {
     "name": "stdout",
     "output_type": "stream",
     "text": [
      "1\n",
      "2\n",
      "3\n",
      "4\n",
      "5\n",
      "6\n",
      "7\n",
      "8\n",
      "9\n",
      "10\n"
     ]
    }
   ],
   "source": [
    "for i in range(1,11):\n",
    "    print(i);"
   ]
  },
  {
   "cell_type": "markdown",
   "metadata": {},
   "source": [
    "### 02) WAP to print 1 to n"
   ]
  },
  {
   "cell_type": "code",
   "execution_count": 5,
   "metadata": {},
   "outputs": [
    {
     "name": "stdout",
     "output_type": "stream",
     "text": [
      "Enter the value of n : 5\n",
      "1\n",
      "2\n",
      "3\n",
      "4\n",
      "5\n"
     ]
    }
   ],
   "source": [
    "n = int(input(\"Enter the value of n : \"));\n",
    "for i in range(1,n+1):\n",
    "    print(i);"
   ]
  },
  {
   "cell_type": "markdown",
   "metadata": {},
   "source": [
    "### 03) WAP to print odd numbers between 1 to n"
   ]
  },
  {
   "cell_type": "code",
   "execution_count": 8,
   "metadata": {},
   "outputs": [
    {
     "name": "stdout",
     "output_type": "stream",
     "text": [
      "Enter the value of n : 10\n",
      "1\n",
      "3\n",
      "5\n",
      "7\n",
      "9\n"
     ]
    }
   ],
   "source": [
    "n = int(input(\"Enter the value of n : \"));\n",
    "for i in range(1,n+1,2):\n",
    "    print(i);"
   ]
  },
  {
   "cell_type": "markdown",
   "metadata": {},
   "source": [
    "### 04) WAP to print numbers between two given numbers which is divisible by 2 but not divisible by 3"
   ]
  },
  {
   "cell_type": "code",
   "execution_count": 14,
   "metadata": {},
   "outputs": [
    {
     "name": "stdout",
     "output_type": "stream",
     "text": [
      "Enter the number1 : 5\n",
      "Enter the number2 : 2\n",
      "2\n",
      "4\n"
     ]
    }
   ],
   "source": [
    "n1 = int(input(\"Enter the number1 : \"));\n",
    "n2 = int(input(\"Enter the number2 : \"));\n",
    "if(n1>n2):\n",
    "    extra = n1;\n",
    "    n1 = n2;\n",
    "    n2 = extra;\n",
    "for i in range(n1,n2+1):\n",
    "    if(i%2 == 0 and i%3 != 0):\n",
    "        print(i);"
   ]
  },
  {
   "cell_type": "markdown",
   "metadata": {},
   "source": [
    "### 05) WAP to print sum of 1 to n numbers"
   ]
  },
  {
   "cell_type": "code",
   "execution_count": 13,
   "metadata": {},
   "outputs": [
    {
     "name": "stdout",
     "output_type": "stream",
     "text": [
      "Enter the value of n : 5\n",
      "Sum =  15\n"
     ]
    }
   ],
   "source": [
    "n = int(input(\"Enter the value of n : \"));\n",
    "sum = 0;\n",
    "for i in range(1,n+1) : \n",
    "    sum = sum + i;\n",
    "print(\"Sum = \",sum);"
   ]
  },
  {
   "cell_type": "markdown",
   "metadata": {},
   "source": [
    "### 06) WAP to print sum of series 1 + 4 + 9 + 16 + 25 + 36 + ...n"
   ]
  },
  {
   "cell_type": "code",
   "execution_count": 17,
   "metadata": {},
   "outputs": [
    {
     "name": "stdout",
     "output_type": "stream",
     "text": [
      "Enter the n : 5\n",
      "Sum =  55\n"
     ]
    }
   ],
   "source": [
    "n = int(input(\"Enter the n : \"));\n",
    "sum = 0;\n",
    "for i in range(1,n+1):\n",
    "    sum = sum + i*i;\n",
    "print(\"Sum = \",sum);"
   ]
  },
  {
   "cell_type": "markdown",
   "metadata": {},
   "source": [
    "### 07) WAP to print sum of series 1 – 2 + 3 – 4 + 5 – 6 + 7 ... n"
   ]
  },
  {
   "cell_type": "code",
   "execution_count": 15,
   "metadata": {},
   "outputs": [
    {
     "name": "stdout",
     "output_type": "stream",
     "text": [
      "Enter the n : 5\n",
      "Sum =  3\n"
     ]
    }
   ],
   "source": [
    "n = int(input(\"Enter the n : \"));\n",
    "sum = 0;\n",
    "for i in range(1,n+1) :\n",
    "    if(i%2 == 0) :\n",
    "        sum = sum - i;\n",
    "    else : \n",
    "        sum = sum + i\n",
    "print(\"Sum = \",sum);"
   ]
  },
  {
   "cell_type": "markdown",
   "metadata": {},
   "source": [
    "### 08) WAP to print multiplication table of given number."
   ]
  },
  {
   "cell_type": "code",
   "execution_count": 18,
   "metadata": {},
   "outputs": [
    {
     "name": "stdout",
     "output_type": "stream",
     "text": [
      "Enter the number : 25\n",
      "25  *  1  =  25\n",
      "25  *  2  =  50\n",
      "25  *  3  =  75\n",
      "25  *  4  =  100\n",
      "25  *  5  =  125\n",
      "25  *  6  =  150\n",
      "25  *  7  =  175\n",
      "25  *  8  =  200\n",
      "25  *  9  =  225\n",
      "25  *  10  =  250\n"
     ]
    }
   ],
   "source": [
    "n = int(input(\"Enter the number : \"));\n",
    "for i in range(1,11) :\n",
    "    print(n,\" * \",i,\" = \",n*i);"
   ]
  },
  {
   "cell_type": "markdown",
   "metadata": {},
   "source": [
    "### 09) WAP to find factorial of the given number"
   ]
  },
  {
   "cell_type": "code",
   "execution_count": 19,
   "metadata": {},
   "outputs": [
    {
     "name": "stdout",
     "output_type": "stream",
     "text": [
      "Enter the number : 5\n",
      "The factorial of a given number :  120\n"
     ]
    }
   ],
   "source": [
    "n = int(input(\"Enter the number : \"));\n",
    "factorial = 1;\n",
    "for i in range(1,n+1) : \n",
    "    factorial = factorial * i;\n",
    "print(\"The factorial of a given number : \",factorial);"
   ]
  },
  {
   "cell_type": "markdown",
   "metadata": {},
   "source": [
    "### 10) WAP to find factors of the given number"
   ]
  },
  {
   "cell_type": "code",
   "execution_count": 20,
   "metadata": {},
   "outputs": [
    {
     "name": "stdout",
     "output_type": "stream",
     "text": [
      "Enter the number : 25\n",
      "1\n",
      "5\n",
      "25\n"
     ]
    }
   ],
   "source": [
    "n = int(input(\"Enter the number : \"));\n",
    "for i in range(1,n+1) : \n",
    "    if(n%i==0) :\n",
    "        print(i);"
   ]
  },
  {
   "cell_type": "markdown",
   "metadata": {},
   "source": [
    "### 11) WAP to find whether the given number is prime or not."
   ]
  },
  {
   "cell_type": "code",
   "execution_count": 31,
   "metadata": {},
   "outputs": [
    {
     "name": "stdout",
     "output_type": "stream",
     "text": [
      "Enter the number : 25\n",
      "number is not prime\n"
     ]
    }
   ],
   "source": [
    "n = int(input(\"Enter the number : \"));\n",
    "flag = False;\n",
    "for i in range(2,n) :\n",
    "    if(n%i==0) :\n",
    "        flag = True;\n",
    "        break;\n",
    "if(flag) :\n",
    "    print(\"number is not prime\");\n",
    "else :\n",
    "    print(\"number is prime\");"
   ]
  },
  {
   "cell_type": "markdown",
   "metadata": {},
   "source": [
    "### 12) WAP to print sum of digits of given number"
   ]
  },
  {
   "cell_type": "code",
   "execution_count": 34,
   "metadata": {},
   "outputs": [
    {
     "name": "stdout",
     "output_type": "stream",
     "text": [
      "Enter the number : 25\n",
      "Sum is =  7\n"
     ]
    }
   ],
   "source": [
    "n = int(input(\"Enter the number : \"));\n",
    "sum = 0;\n",
    "while(n > 0) :\n",
    "    sum = sum + n%10;\n",
    "    n = int(n/10);\n",
    "print(\"Sum is = \",sum);"
   ]
  },
  {
   "cell_type": "markdown",
   "metadata": {},
   "source": [
    "### 13) WAP to check whether the given number is palindrome or not"
   ]
  },
  {
   "cell_type": "code",
   "execution_count": 39,
   "metadata": {},
   "outputs": [
    {
     "name": "stdout",
     "output_type": "stream",
     "text": [
      "Enter the number : 256652\n",
      "number is palindrome\n"
     ]
    }
   ],
   "source": [
    "n = int(input(\"Enter the number : \"));\n",
    "extra = n;\n",
    "reverseNumber = 0;\n",
    "while(n > 0) :\n",
    "    reverseNumber = (reverseNumber*10) + n%10;\n",
    "    n = int(n/10);\n",
    "if(extra == reverseNumber) :\n",
    "    print(\"number is palindrome\");\n",
    "else :\n",
    "    print(\"not a palindrome\");\n"
   ]
  },
  {
   "cell_type": "markdown",
   "metadata": {},
   "source": [
    "### 01) WAP to check whether the given number is Armstrong or not."
   ]
  },
  {
   "cell_type": "code",
   "execution_count": 45,
   "metadata": {},
   "outputs": [
    {
     "name": "stdout",
     "output_type": "stream",
     "text": [
      "Enter the number : 8208\n",
      "4\n",
      "the given number is armstrong\n"
     ]
    }
   ],
   "source": [
    "n = int(input(\"Enter the number : \"));\n",
    "extra = n;\n",
    "length = 0;\n",
    "while(extra>0) :\n",
    "    length = length + 1;\n",
    "    extra = int(extra/10);\n",
    "print(length);\n",
    "armstrong = 0;\n",
    "extra = n;\n",
    "while(extra > 0) :\n",
    "    number = extra%10;\n",
    "    armstrong = armstrong + (number**length);\n",
    "    extra = int(extra/10);\n",
    "if(n == armstrong) :\n",
    "    print(\"the given number is armstrong\");\n",
    "else :\n",
    "    print(\"not an armstrong\");"
   ]
  },
  {
   "cell_type": "markdown",
   "metadata": {},
   "source": [
    "### 02) WAP to find out prime numbers between given two numbers."
   ]
  },
  {
   "cell_type": "code",
   "execution_count": 51,
   "metadata": {},
   "outputs": [
    {
     "name": "stdout",
     "output_type": "stream",
     "text": [
      "Enter the number 1 : 2\n",
      "Enter the number 2 : 40\n",
      "2\n",
      "3\n",
      "5\n",
      "7\n",
      "11\n",
      "13\n",
      "17\n",
      "19\n",
      "23\n",
      "29\n",
      "31\n",
      "37\n"
     ]
    }
   ],
   "source": [
    "n1 = int(input(\"Enter the number 1 : \"));\n",
    "n2 = int(input(\"Enter the number 2 : \"));\n",
    "for i in range(n1,n2) :\n",
    "    flag = True;\n",
    "    for j in range(2,i-1) :\n",
    "        if(i%j==0) :\n",
    "            flag = False;\n",
    "            break;\n",
    "    if(flag) :\n",
    "        print(i);    "
   ]
  },
  {
   "cell_type": "markdown",
   "metadata": {},
   "source": [
    "### 03) WAP to calculate x^y without using any function."
   ]
  },
  {
   "cell_type": "code",
   "execution_count": 1,
   "metadata": {},
   "outputs": [
    {
     "name": "stdout",
     "output_type": "stream",
     "text": [
      "2.0  ^  5.0  =  32.0\n"
     ]
    }
   ],
   "source": [
    "x = float(input(\"Enter the x : \"));\n",
    "y = float(input(\"Enter the y : \"));\n",
    "print(x,\" ^ \",y,\" = \",x**y)"
   ]
  },
  {
   "cell_type": "markdown",
   "metadata": {},
   "source": [
    "### 04) WAP to check whether the given number is perfect or not.\n",
    "[Sum of factors including 1 excluding number itself]"
   ]
  },
  {
   "cell_type": "code",
   "execution_count": 4,
   "metadata": {},
   "outputs": [
    {
     "name": "stdout",
     "output_type": "stream",
     "text": [
      "85  is not a perfect number.\n"
     ]
    }
   ],
   "source": [
    "n = int(input(\"Enter the number : \"));\n",
    "sumOfFactors = 0;\n",
    "for i in range(1,n):\n",
    "  if(n%i==0) :\n",
    "    sumOfFactors = sumOfFactors + i;\n",
    "if(sumOfFactors == n) : \n",
    "  print(n,\"is perfect number.\");\n",
    "else :\n",
    "  print(n,\" is not a perfect number.\");"
   ]
  },
  {
   "cell_type": "markdown",
   "metadata": {},
   "source": [
    "### 05) WAP to find the sum of 1 + (1+2) + (1+2+3) + (1+2+3+4)+...+(1+2+3+4+....+n)"
   ]
  },
  {
   "cell_type": "code",
   "execution_count": 7,
   "metadata": {},
   "outputs": [
    {
     "name": "stdout",
     "output_type": "stream",
     "text": [
      "Sum =  20\n"
     ]
    }
   ],
   "source": [
    "n = int(input(\"Enter the number : \"));\n",
    "sum = 0;\n",
    "for i in range(1,n+1) :\n",
    "  partialSum = 0;\n",
    "  for j in range(1,i+1) :\n",
    "    partialSum = partialSum + j;\n",
    "  sum = sum + partialSum;\n",
    "print(\"Sum = \",sum);"
   ]
  },
  {
   "cell_type": "markdown",
   "metadata": {},
   "source": [
    "### 06) WAP to print Multiplication Table up to n"
   ]
  },
  {
   "cell_type": "code",
   "execution_count": 4,
   "metadata": {},
   "outputs": [
    {
     "name": "stdout",
     "output_type": "stream",
     "text": [
      "1  *  1  =  1\n",
      "1  *  2  =  2\n",
      "1  *  3  =  3\n",
      "1  *  4  =  4\n",
      "1  *  5  =  5\n",
      "1  *  6  =  6\n",
      "1  *  7  =  7\n",
      "1  *  8  =  8\n",
      "1  *  9  =  9\n",
      "1  *  10  =  10\n"
     ]
    }
   ],
   "source": [
    "n = int(input(\"Enter the number : \"));\n",
    "for j in range(1,n+1) :\n",
    "  for i in range(1,11) :\n",
    "    print(j,\" * \",i,\" = \",j*i);"
   ]
  }
 ],
 "metadata": {
  "kernelspec": {
   "display_name": "Python 3",
   "language": "python",
   "name": "python3"
  },
  "language_info": {
   "codemirror_mode": {
    "name": "ipython",
    "version": 3
   },
   "file_extension": ".py",
   "mimetype": "text/x-python",
   "name": "python",
   "nbconvert_exporter": "python",
   "pygments_lexer": "ipython3",
   "version": "3.11.0 (main, Oct 24 2022, 18:26:48) [MSC v.1933 64 bit (AMD64)]"
  },
  "vscode": {
   "interpreter": {
    "hash": "c8253c40f5a8e8444123cac8c8376aceee680d85e33b38d3d60136e9ad5d08d7"
   }
  }
 },
 "nbformat": 4,
 "nbformat_minor": 4
}
