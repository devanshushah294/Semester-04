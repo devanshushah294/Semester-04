{
 "cells": [
  {
   "cell_type": "markdown",
   "metadata": {},
   "source": [
    "<a href='https://www.darshan.ac.in/'> <img src='https://www.darshan.ac.in/Content/media/DU_Logo.svg' width=\"250\" height=\"300\"/></a>\n",
    "<pre>\n",
    "<center><b><h1>Python Programming - 2101CS405</b></center>\n",
    "<center><b><h1>Lab - 12</b></center>    \n",
    "<pre>"
   ]
  },
  {
   "cell_type": "markdown",
   "metadata": {},
   "source": [
    "# OOP"
   ]
  },
  {
   "cell_type": "markdown",
   "metadata": {},
   "source": [
    "### 01) Write a Program to create a class by name Students, and initialize attributes like name, age, and grade while creating an object."
   ]
  },
  {
   "cell_type": "code",
   "execution_count": 1,
   "metadata": {},
   "outputs": [],
   "source": [
    "class Students:\n",
    "    name=\"\"\n",
    "    age=0;\n",
    "    grade='any';\n",
    "    def __init__(self,name,age,grade):\n",
    "        self.name = name;\n",
    "        self.age = age;\n",
    "        self.grade = grade;\n",
    "obj = Students(\"Devanshu\",25,\"A+\");"
   ]
  },
  {
   "cell_type": "markdown",
   "metadata": {},
   "source": [
    "### 02) Create a class named Bank_Account with Account_No, User_Name, Email,Account_Type and Account_Balance data members. Also create a method GetAccountDetails() and DisplayAccountDetails(). Create main method to demonstrate the Bank_Account class."
   ]
  },
  {
   "cell_type": "code",
   "execution_count": 1,
   "metadata": {},
   "outputs": [],
   "source": [
    "class BankAccount:\n",
    "    # accountNo = \"\";\n",
    "    # userName = \"\";\n",
    "    # email = \"\";\n",
    "    # accountType = \"\";\n",
    "    # accountBalance = \"\";\n",
    "    \n",
    "    def __init__(self):\n",
    "        pass\n",
    "    \n",
    "    def getAccountDetails(self):\n",
    "        self.accountNo = input(\"Enter the accountNo\");\n",
    "        self.userName = input(\"Enter the userName\");\n",
    "        self.email = input(\"Enter the email\");\n",
    "        self.accountType = input(\"Enter the account type\");\n",
    "        self.accountBalance = float(input(\"Enter the account Balance\"));\n",
    "    \n",
    "    def displayAccountDetails(self):\n",
    "        print(\"account no = \",self.accountNo);\n",
    "        print(\"userName = \",self.userName);\n",
    "        print(\"email = \",self.email);\n",
    "        print(\"accountType = \",self.accountType);\n",
    "        print(\"accountBalance = \",self.accountBalance);\n",
    "    def main(self):\n",
    "        self.getAccountDetails();\n",
    "        self.displayAccountDetails();"
   ]
  },
  {
   "cell_type": "code",
   "execution_count": 2,
   "metadata": {},
   "outputs": [
    {
     "name": "stdout",
     "output_type": "stream",
     "text": [
      "account no =  10000\n",
      "userName =  Devanshu\n",
      "email =  dkshha@3oegmail.com\n",
      "accountType =  simple\n",
      "accountBalance =  1000520.0\n"
     ]
    }
   ],
   "source": [
    "obj = BankAccount();\n",
    "obj.main();"
   ]
  },
  {
   "cell_type": "markdown",
   "metadata": {},
   "source": [
    "### 03) WAP to create Circle class with area and perimeter function to find area and perimeter of circle."
   ]
  },
  {
   "cell_type": "code",
   "execution_count": 9,
   "metadata": {},
   "outputs": [],
   "source": [
    "class Circle():\n",
    "    radius = 1;\n",
    "    \n",
    "    def __init__(self,radius):\n",
    "        self.radius = radius;\n",
    "    \n",
    "    def area(self):\n",
    "        print(\"area = \",3.14*(self.radius**2));\n",
    "    \n",
    "    def perimeter(self):\n",
    "        print(\"perimeter = \",2*3.14*self.radius);"
   ]
  },
  {
   "cell_type": "code",
   "execution_count": 10,
   "metadata": {},
   "outputs": [
    {
     "name": "stdout",
     "output_type": "stream",
     "text": [
      "area =  12.56\n",
      "perimeter =  12.56\n"
     ]
    }
   ],
   "source": [
    "obj = Circle(2);\n",
    "obj.area();\n",
    "obj.perimeter();"
   ]
  },
  {
   "cell_type": "markdown",
   "metadata": {},
   "source": [
    "### 04) Create a class for employees that includes attributes such as name, age, salary, and methods to update and display employee information."
   ]
  },
  {
   "cell_type": "code",
   "execution_count": 12,
   "metadata": {},
   "outputs": [
    {
     "name": "stdout",
     "output_type": "stream",
     "text": [
      "Name =  sdfbdj\n",
      "age =  66\n",
      "salary =  62851.0\n"
     ]
    }
   ],
   "source": [
    "class Employee:\n",
    "    name = \"\";\n",
    "    age = \"\";\n",
    "    salary = \"\";\n",
    "\n",
    "    def update(self):\n",
    "        self.name = input(\"Enter the name : \");\n",
    "        self.age = int(input(\"Enter the age : \"));\n",
    "        self.salary = float(input(\"Enter the salary : \"));\n",
    "        self.printDetails();\n",
    "     \n",
    "    def printDetails(self):\n",
    "        print(\"Name = \",self.name);\n",
    "        print(\"age = \",self.age);\n",
    "        print(\"salary = \",self.salary);\n",
    "\n",
    "obj = Employee();\n",
    "obj.update();"
   ]
  },
  {
   "cell_type": "markdown",
   "metadata": {},
   "source": [
    "### 05) Create a bank account class with methods to deposit, withdraw, and check balance."
   ]
  },
  {
   "cell_type": "code",
   "execution_count": 17,
   "metadata": {},
   "outputs": [],
   "source": [
    "class BankAccount:\n",
    "    balance = 0;\n",
    "    def deposit(self,amount):\n",
    "        if(self.balance+amount<0):\n",
    "            print(\"Operation cant be performed\");\n",
    "        else:\n",
    "            self.balance = self.balance + amount;\n",
    "            print(\"balance is = \",self.balance);\n",
    "    def withdraw(self,amount):\n",
    "        if(self.balance-amount<0):\n",
    "            print(\"Operation cant be performed\");\n",
    "        else:\n",
    "            self.balance = self.balance-amount;\n",
    "            print(\"Balance is \", self.balance);\n",
    "    def checkBalance(self):\n",
    "        print(\"Balance is \",self.balance);"
   ]
  },
  {
   "cell_type": "code",
   "execution_count": 18,
   "metadata": {},
   "outputs": [
    {
     "name": "stdout",
     "output_type": "stream",
     "text": [
      "balance is =  20\n",
      "Balance is  10\n"
     ]
    }
   ],
   "source": [
    "obj = BankAccount();\n",
    "obj.deposit(20);\n",
    "obj.withdraw(10);"
   ]
  },
  {
   "cell_type": "markdown",
   "metadata": {},
   "source": [
    "### 06) Create a class for managing inventory that includes attributes such as item name, price, quantity, and methods to add, remove, and update items."
   ]
  },
  {
   "cell_type": "code",
   "execution_count": null,
   "metadata": {},
   "outputs": [],
   "source": []
  },
  {
   "cell_type": "markdown",
   "metadata": {},
   "source": [
    "### 09) Create a Class with instance attributes"
   ]
  },
  {
   "cell_type": "code",
   "execution_count": null,
   "metadata": {},
   "outputs": [],
   "source": []
  },
  {
   "cell_type": "markdown",
   "metadata": {},
   "source": [
    "### 07)\n",
    "Create one class student_kit <br>\n",
    "Within the student_kit class create one class attribute principal name ( Mr ABC ) <br>\n",
    "Create one attendance method and take input as number of days. <br>\n",
    "While creating student take input their name . <br>\n",
    "Create one certificate for each student by taking input of number of days present in class. <br>"
   ]
  },
  {
   "cell_type": "code",
   "execution_count": null,
   "metadata": {},
   "outputs": [],
   "source": []
  },
  {
   "cell_type": "markdown",
   "metadata": {},
   "source": [
    "### 08) Define Time class with hour and minute as data member. Also define addition method to add two time objects."
   ]
  },
  {
   "cell_type": "code",
   "execution_count": 17,
   "metadata": {},
   "outputs": [
    {
     "name": "stdout",
     "output_type": "stream",
     "text": [
      "10 : 5\n"
     ]
    }
   ],
   "source": [
    "class Time:\n",
    "    def __init__(self,hours,minutes):\n",
    "        self.hours = hours\n",
    "        self.minutes = minutes\n",
    "    def addTimeWithObjects(self,time1,time2):\n",
    "        hours = time1.hours+time2.hours;\n",
    "        mins = time1.minutes+time2.minutes\n",
    "        if(time1.minutes+time2.minutes>=60):\n",
    "            hours += 1\n",
    "            mins -= 60\n",
    "        return Time(hours,mins)\n",
    "    def printTime(self):\n",
    "        print(self.hours,\":\",self.minutes)\n",
    "time1 = Time(4,25)\n",
    "time2 = Time(5,40)\n",
    "time3 = time1.addTimeWithObjects(time1,time2);\n",
    "time3.printTime()\n"
   ]
  },
  {
   "attachments": {},
   "cell_type": "markdown",
   "metadata": {},
   "source": [
    "### 09) WAP to demonstrate inheritance in python."
   ]
  },
  {
   "cell_type": "code",
   "execution_count": 4,
   "metadata": {},
   "outputs": [
    {
     "name": "stdout",
     "output_type": "stream",
     "text": [
      "25\n"
     ]
    }
   ],
   "source": [
    "# simple\n",
    "class A:\n",
    "    def __init__(self,a):\n",
    "        self.a = a\n",
    "class B(A):\n",
    "    def __init__(self, a):\n",
    "        super().__init__(a)\n",
    "    def printA(self):\n",
    "        print(self.a)\n",
    "obj = B(25)\n",
    "obj.printA();"
   ]
  },
  {
   "cell_type": "code",
   "execution_count": 7,
   "metadata": {},
   "outputs": [
    {
     "name": "stdout",
     "output_type": "stream",
     "text": [
      "a =  2\n",
      "b =  5\n"
     ]
    }
   ],
   "source": [
    "# multi level\n",
    "class A:\n",
    "    def __init__(self,a):\n",
    "        self.a = a\n",
    "\n",
    "    def printA(self):\n",
    "        print(\"a = \", self.a);\n",
    "\n",
    "class B(A):\n",
    "    def __init__(self,a,b):\n",
    "        super().__init__(a)\n",
    "        self.b = b\n",
    "    def printB(self):\n",
    "        print(\"b = \",self.b);\n",
    "class C(B):\n",
    "    def __init__(self,a,b):\n",
    "        super().__init__(a,b);\n",
    "    def printValues(self):\n",
    "        self.printA()\n",
    "        self.printB()\n",
    "\n",
    "obj = C(2,5)\n",
    "obj.printValues()"
   ]
  },
  {
   "cell_type": "code",
   "execution_count": 9,
   "metadata": {},
   "outputs": [
    {
     "name": "stdout",
     "output_type": "stream",
     "text": [
      "5\n",
      "2\n",
      "55\n",
      "3\n"
     ]
    }
   ],
   "source": [
    "class A:\n",
    "    def __init__(self,a):\n",
    "        self.a = a\n",
    "    def printA(self):\n",
    "        print(self.a)\n",
    "class B(A):\n",
    "    def __init__(self, a, b):\n",
    "        super().__init__(a)\n",
    "        self.b = b\n",
    "    def printValues(self):\n",
    "        print(self.b)\n",
    "        self.printA()\n",
    "class C(A):\n",
    "    def __init__(self, a, c):\n",
    "        super().__init__(a)\n",
    "        self.c = c\n",
    "    def printValues(self):\n",
    "        print(self.c)\n",
    "        self.printA()\n",
    "obj1 = C(2,5)\n",
    "obj2 = B(3,55)\n",
    "obj1.printValues();\n",
    "obj2.printValues();"
   ]
  },
  {
   "cell_type": "code",
   "execution_count": 8,
   "metadata": {},
   "outputs": [
    {
     "name": "stdout",
     "output_type": "stream",
     "text": [
      "a from class A\n",
      "b from class B\n"
     ]
    }
   ],
   "source": [
    "class A:\n",
    "    def printA(self):\n",
    "        print(\"a from class A\")\n",
    "class B:\n",
    "    def printB(self):\n",
    "        print(\"b from class B\")\n",
    "class C(A,B):\n",
    "    def printValues(self):\n",
    "        self.printA()\n",
    "        self.printB()  \n",
    "obj = C()\n",
    "obj.printValues()"
   ]
  },
  {
   "cell_type": "markdown",
   "metadata": {},
   "source": [
    "### 10) Create a child class Bus that will inherit all of the variables and methods of the Vehicle class\n",
    "class Vehicle:\n",
    "\n",
    "    def __init__(self, name, max_speed, mileage):\n",
    "        self.name = name\n",
    "        self.max_speed = max_speed\n",
    "        self.mileage = mileage\n",
    "        \n",
    "Create a Bus object that will inherit all of the variables and methods of the parent Vehicle class and display it.        "
   ]
  },
  {
   "cell_type": "code",
   "execution_count": null,
   "metadata": {},
   "outputs": [],
   "source": []
  },
  {
   "cell_type": "markdown",
   "metadata": {},
   "source": [
    "### 11)  Create a class hierarchy for different types of animals, with a parent Animal class and child classes for specific animals like Cat, Dog, and Bird."
   ]
  },
  {
   "cell_type": "code",
   "execution_count": null,
   "metadata": {},
   "outputs": [],
   "source": []
  },
  {
   "cell_type": "markdown",
   "metadata": {},
   "source": [
    "### 12) Create a class hierarchy for different types of vehicles, with a parent Vehicle class and child classes for specific vehicles like Car, Truck, and Motorcycle."
   ]
  },
  {
   "cell_type": "code",
   "execution_count": 12,
   "metadata": {},
   "outputs": [
    {
     "name": "stdout",
     "output_type": "stream",
     "text": [
      "This is Motercycle\n"
     ]
    }
   ],
   "source": [
    "class Vehicle:\n",
    "    def __init__(self):\n",
    "        print(\"This is vehicle class\")\n",
    "\n",
    "class Car(Vehicle):\n",
    "    def __init__(self):\n",
    "        super().__init__()\n",
    "        print(\"This is a car\")\n",
    "\n",
    "class Truck(Vehicle):\n",
    "    def __init__(self):\n",
    "        super().__init__()\n",
    "        print(\"This is Truck\")\n",
    "\n",
    "class Motorcycle(Vehicle):\n",
    "    def __init__(self):\n",
    "        super().__init__()\n",
    "        print(\"This is Motercycle\")\n",
    "\n",
    "a = Motorcycle()"
   ]
  },
  {
   "cell_type": "markdown",
   "metadata": {},
   "source": [
    "### 13)  Create a class hierarchy for different types of bank accounts, with a parent Account class and child classes for specific account types like Checking, Savings, and Credit."
   ]
  },
  {
   "cell_type": "code",
   "execution_count": 15,
   "metadata": {},
   "outputs": [
    {
     "name": "stdout",
     "output_type": "stream",
     "text": [
      "Welcome to account class.\n",
      "This is the Credit account\n",
      "Welcome to account class.\n",
      "This is the Savings account.\n",
      "Welcome to account class.\n",
      "This is the checking account.\n"
     ]
    }
   ],
   "source": [
    "class Account:\n",
    "    def __init__(self):\n",
    "        print(\"Welcome to account class.\")\n",
    "\n",
    "class Checking(Account):\n",
    "    def __init__(self):\n",
    "        super().__init__()\n",
    "        print(\"This is the checking account.\")\n",
    "\n",
    "class Savings(Account):\n",
    "    def __init__(self):\n",
    "        super().__init__()\n",
    "        print(\"This is the Savings account.\")\n",
    "\n",
    "class Credit(Account):\n",
    "    def __init__(self):\n",
    "        super().__init__()\n",
    "        print(\"This is the Credit account\")\n",
    "\n",
    "a = Credit()\n",
    "b = Savings()\n",
    "c = Checking()"
   ]
  },
  {
   "cell_type": "markdown",
   "metadata": {},
   "source": [
    "### 14) Create a Shape class with a draw method that is not implemented. Create three child classes Rectangle, Circle, and Triangle that implement the draw method with their respective drawing behaviors. Create a list of Shape objects that includes one instance of each child class, and then iterate through the list and call the draw method on each object."
   ]
  },
  {
   "cell_type": "code",
   "execution_count": 11,
   "metadata": {},
   "outputs": [
    {
     "name": "stdout",
     "output_type": "stream",
     "text": [
      "draw rectangle\n",
      "Drawing Triangle\n",
      "draw Circle\n"
     ]
    }
   ],
   "source": [
    "class Shape:\n",
    "    def draw(self):\n",
    "        pass\n",
    "\n",
    "class Rectangle(Shape):\n",
    "    def draw(self):\n",
    "        print(\"draw rectangle\")\n",
    "\n",
    "class Triangle(Shape):\n",
    "    def draw(self):\n",
    "        print(\"Drawing Triangle\")\n",
    "\n",
    "class Circle(Shape):\n",
    "    def draw(self):\n",
    "        print(\"draw Circle\")\n",
    "\n",
    "a = Rectangle()\n",
    "b = Triangle()\n",
    "c = Circle()\n",
    "list = [a,b,c]\n",
    "for i in list:\n",
    "    i.draw()"
   ]
  },
  {
   "cell_type": "markdown",
   "metadata": {},
   "source": [
    "### 15) Create a Person class with a constructor that takes two arguments name and age. Create a child class Employee that inherits from Person and adds a new attribute salary. Override the __init__ method in Employee to call the parent class's __init__ method using the super keyword, and then initialize the salary attribute."
   ]
  },
  {
   "cell_type": "code",
   "execution_count": 2,
   "metadata": {},
   "outputs": [
    {
     "name": "stdout",
     "output_type": "stream",
     "text": [
      "Name =  Devanshu\n",
      "Age =  21\n",
      "Salary =  1000000\n"
     ]
    }
   ],
   "source": [
    "class Person:\n",
    "    def __init__(self,name,age):\n",
    "        self.name = name\n",
    "        self.age = age\n",
    "class Employee(Person):\n",
    "  def __init__(self, name, age, salary):\n",
    "     super().__init__(name, age)\n",
    "     self.salary = salary\n",
    "     print(\"Name = \",self.name)\n",
    "     print(\"Age = \",self.age)\n",
    "     print(\"Salary = \",self.salary)\n",
    "\n",
    "obj = Employee(\"Devanshu\", 21,1000000)"
   ]
  }
 ],
 "metadata": {
  "kernelspec": {
   "display_name": "Python 3",
   "language": "python",
   "name": "python3"
  },
  "language_info": {
   "codemirror_mode": {
    "name": "ipython",
    "version": 3
   },
   "file_extension": ".py",
   "mimetype": "text/x-python",
   "name": "python",
   "nbconvert_exporter": "python",
   "pygments_lexer": "ipython3",
   "version": "3.11.0"
  },
  "vscode": {
   "interpreter": {
    "hash": "c8253c40f5a8e8444123cac8c8376aceee680d85e33b38d3d60136e9ad5d08d7"
   }
  }
 },
 "nbformat": 4,
 "nbformat_minor": 4
}
