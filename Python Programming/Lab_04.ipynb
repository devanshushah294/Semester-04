{
 "cells": [
  {
   "cell_type": "markdown",
   "metadata": {},
   "source": [
    "\n",
    "<a href='https://www.darshan.ac.in/'> <img src='https://www.darshan.ac.in/Content/media/DU_Logo.svg' width=\"250\" height=\"300\"/></a>\n",
    "<pre>\n",
    "<center><b><h1>Python Programming - 2101CS405</b></center>\n",
    "<center><b><h1>Lab - 4</b></center>    \n",
    "<pre>"
   ]
  },
  {
   "cell_type": "markdown",
   "metadata": {},
   "source": [
    "# String"
   ]
  },
  {
   "cell_type": "markdown",
   "metadata": {},
   "source": [
    "### 01) WAP to check given string is palindrome or not."
   ]
  },
  {
   "cell_type": "code",
   "execution_count": 7,
   "metadata": {
    "scrolled": true
   },
   "outputs": [
    {
     "name": "stdout",
     "output_type": "stream",
     "text": [
      "Enter the string : mam\n",
      "mam is palindrome\n"
     ]
    }
   ],
   "source": [
    "str = input(\"Enter the string : \");\n",
    "rev = str[::-1];\n",
    "if(str==rev):\n",
    "    print(str,\"is palindrome\");\n",
    "else:\n",
    "    print(str,\"is not palindrome\");"
   ]
  },
  {
   "cell_type": "markdown",
   "metadata": {},
   "source": [
    "### 02) WAP to reverse the words in given string."
   ]
  },
  {
   "cell_type": "code",
   "execution_count": 5,
   "metadata": {},
   "outputs": [
    {
     "name": "stdout",
     "output_type": "stream",
     "text": [
      "['hello', 'from', 'world', 'hello']\n"
     ]
    }
   ],
   "source": [
    "str = input(\"Enter the string : \");\n",
    "words = str.split(\" \");\n",
    "words = words[::-1];\n",
    "print(words);"
   ]
  },
  {
   "cell_type": "markdown",
   "metadata": {},
   "source": [
    "### 03) WAP to remove ith character from given string"
   ]
  },
  {
   "cell_type": "code",
   "execution_count": 2,
   "metadata": {},
   "outputs": [
    {
     "name": "stdout",
     "output_type": "stream",
     "text": [
      "Pthon\n"
     ]
    }
   ],
   "source": [
    "str = input(\":Enter the string : \");\n",
    "n = int(input(\"Enter the index\"));\n",
    "string = str[0:n]+str[n+1:len(str)];\n",
    "print(string);"
   ]
  },
  {
   "cell_type": "markdown",
   "metadata": {},
   "source": [
    "### 04) WAP to find length of String without using len function."
   ]
  },
  {
   "cell_type": "code",
   "execution_count": 5,
   "metadata": {},
   "outputs": [
    {
     "name": "stdout",
     "output_type": "stream",
     "text": [
      "11\n"
     ]
    }
   ],
   "source": [
    "str = input(\":Enter the string : \");\n",
    "len = 0;\n",
    "for i in str:\n",
    "    len = len + 1;\n",
    "print(len);"
   ]
  },
  {
   "cell_type": "markdown",
   "metadata": {},
   "source": [
    "### 05) WAP to print even length word in string."
   ]
  },
  {
   "cell_type": "code",
   "execution_count": 2,
   "metadata": {},
   "outputs": [
    {
     "name": "stdout",
     "output_type": "stream",
     "text": [
      "['devanshu', 'shah', 'hello', 'world']\n",
      "devanshu\n",
      "shah\n"
     ]
    }
   ],
   "source": [
    "\n",
    "str = input(\":Enter the string : \")\n",
    "words = str.split()\n",
    "print(words)\n",
    "for i in words:\n",
    "    if(len(i)%2==0):\n",
    "        print(i)\n"
   ]
  },
  {
   "cell_type": "markdown",
   "metadata": {},
   "source": [
    "   ### 06) WAP to count numbers of vowels in given string."
   ]
  },
  {
   "cell_type": "code",
   "execution_count": 1,
   "metadata": {},
   "outputs": [
    {
     "name": "stdout",
     "output_type": "stream",
     "text": [
      "3\n"
     ]
    }
   ],
   "source": [
    "str = input(\"Enter the string : \");\n",
    "noOfVovels = 0;\n",
    "for i in str :\n",
    "  if (i == 'a' or i=='e' or i=='i' or i=='o' or i=='u'):\n",
    "    noOfVovels = noOfVovels + 1;\n",
    "print(noOfVovels);\n"
   ]
  },
  {
   "cell_type": "markdown",
   "metadata": {},
   "source": [
    "### 07) WAP to convert given array to string."
   ]
  },
  {
   "cell_type": "code",
   "execution_count": 4,
   "metadata": {},
   "outputs": [
    {
     "name": "stdout",
     "output_type": "stream",
     "text": [
      "hello python 1 2 3 \n"
     ]
    }
   ],
   "source": [
    "cars = [\"hello\",\"python\",1,2,3];\n",
    "s = \"\";\n",
    "for i in cars :\n",
    "  s = s + str(i) + \" \";\n",
    "print(s);"
   ]
  },
  {
   "cell_type": "markdown",
   "metadata": {},
   "source": [
    "### 01) WAP to find out duplicate characters in given string."
   ]
  },
  {
   "cell_type": "code",
   "execution_count": 3,
   "metadata": {},
   "outputs": [
    {
     "name": "stdout",
     "output_type": "stream",
     "text": [
      "{'l'}\n"
     ]
    }
   ],
   "source": [
    "string = input(\"Enter the String : \");\n",
    "duplicates = [];\n",
    "for i in string:\n",
    "    if string.count(i) > 1:\n",
    "        duplicates.append(i) \n",
    "print(set(duplicates))"
   ]
  },
  {
   "cell_type": "markdown",
   "metadata": {},
   "source": [
    "### 02) WAP to capitalize the first and last character of each word in a string."
   ]
  },
  {
   "cell_type": "code",
   "execution_count": 4,
   "metadata": {},
   "outputs": [
    {
     "name": "stdout",
     "output_type": "stream",
     "text": [
      "dnj3enfjw\n",
      "djw\n",
      "['dnj3enfjw', 'djw']\n"
     ]
    }
   ],
   "source": []
  },
  {
   "cell_type": "markdown",
   "metadata": {},
   "source": [
    "### 03) WAP to find Maximum frequency character in String."
   ]
  },
  {
   "cell_type": "code",
   "execution_count": null,
   "metadata": {},
   "outputs": [],
   "source": []
  },
  {
   "cell_type": "markdown",
   "metadata": {},
   "source": [
    "### 04) WAP to find Minimum frequency character in String."
   ]
  },
  {
   "cell_type": "code",
   "execution_count": null,
   "metadata": {},
   "outputs": [],
   "source": []
  },
  {
   "cell_type": "markdown",
   "metadata": {},
   "source": [
    "### 05) WAP to check if a given string is binary string or not"
   ]
  },
  {
   "cell_type": "code",
   "execution_count": 3,
   "metadata": {},
   "outputs": [
    {
     "name": "stdout",
     "output_type": "stream",
     "text": [
      "given string is binary:\n"
     ]
    }
   ],
   "source": [
    "str = input(\"Enter the string : \");\n",
    "answer = True;\n",
    "for i in str:\n",
    "  if(i != '0' and i != '1'):\n",
    "    answer = False;\n",
    "if(answer):\n",
    "  print(\"given string is binary\");\n",
    "else:\n",
    "  print(\"not binary\");"
   ]
  }
 ],
 "metadata": {
  "kernelspec": {
   "display_name": "Python 3",
   "language": "python",
   "name": "python3"
  },
  "language_info": {
   "codemirror_mode": {
    "name": "ipython",
    "version": 3
   },
   "file_extension": ".py",
   "mimetype": "text/x-python",
   "name": "python",
   "nbconvert_exporter": "python",
   "pygments_lexer": "ipython3",
   "version": "3.11.0"
  },
  "vscode": {
   "interpreter": {
    "hash": "c8253c40f5a8e8444123cac8c8376aceee680d85e33b38d3d60136e9ad5d08d7"
   }
  }
 },
 "nbformat": 4,
 "nbformat_minor": 4
}
