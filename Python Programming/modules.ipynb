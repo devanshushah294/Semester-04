{
 "cells": [
  {
   "attachments": {},
   "cell_type": "markdown",
   "metadata": {},
   "source": [
    "Random Module"
   ]
  },
  {
   "cell_type": "code",
   "execution_count": 89,
   "metadata": {},
   "outputs": [
    {
     "name": "stdout",
     "output_type": "stream",
     "text": [
      "0.023858079140782196\n",
      "0.32514292876116\n",
      "0.13669739298646666\n",
      "0.5102238458372012\n",
      "0.998683568192552\n",
      "87\n",
      "20\n",
      "10\n",
      "[10, 30, 20]\n",
      "8.67200845946989\n"
     ]
    }
   ],
   "source": [
    "import random\n",
    "print(random.random());\n",
    "# random.seed(2);\n",
    "print(random.random());\n",
    "print(random.random());\n",
    "print(random.random());\n",
    "print(random.random());\n",
    "print(random.randint(1,100))\n",
    "print(random.randrange(0,30,5))\n",
    "l1 = [10,20,30];\n",
    "print(random.choice(l1));\n",
    "random.shuffle(l1);\n",
    "print(l1);\n",
    "print(random.uniform(5,10)) #for float"
   ]
  },
  {
   "attachments": {},
   "cell_type": "markdown",
   "metadata": {},
   "source": [
    "Math module"
   ]
  },
  {
   "cell_type": "code",
   "execution_count": 90,
   "metadata": {},
   "outputs": [
    {
     "name": "stdout",
     "output_type": "stream",
     "text": [
      "e =  2.718281828459045\n",
      "pi =  3.141592653589793\n",
      "tau =  6.283185307179586\n",
      "6 floor of 5.6 5\n",
      "factorial =  120\n",
      "15\n",
      "30\n",
      "absolute 20.05\n",
      "148.4131591025766\n",
      "148.41315910257657\n",
      "1.0\n",
      "0.3010299956639812\n",
      "3.0\n",
      "-0.9589242746631385\n",
      "0.28366218546322625\n",
      "-3.380515006246586\n",
      "radians of 90 1.5707963267948966\n",
      "degrees of 1.5707963267948966 90.0\n",
      "24.0\n"
     ]
    }
   ],
   "source": [
    "import math;\n",
    "print(\"e = \",math.e);\n",
    "print(\"pi = \",math.pi);\n",
    "print(\"tau = \",math.tau);\n",
    "print(math.ceil(5.6),\"floor of 5.6\",math.floor(5.6));\n",
    "print(\"factorial = \",math.factorial(5));\n",
    "print(math.gcd(15,30));\n",
    "print(math.lcm(15,30));\n",
    "print(\"absolute\",math.fabs(-20.05));\n",
    "print(math.exp(5));\n",
    "print(math.pow(math.e,5));\n",
    "print(math.log2(2));\n",
    "print(math.log10(2));\n",
    "print(math.sqrt(9));\n",
    "print(math.sin(5));\n",
    "print(math.cos(5));\n",
    "print(math.tan(5));\n",
    "print(\"radians of 90\",math.radians(90));\n",
    "print(\"degrees of 1.5707963267948966\",math.degrees(1.5707963267948966));\n",
    "print(math.gamma(5));"
   ]
  },
  {
   "attachments": {},
   "cell_type": "markdown",
   "metadata": {},
   "source": [
    "Date Time module"
   ]
  },
  {
   "cell_type": "code",
   "execution_count": 105,
   "metadata": {},
   "outputs": [
    {
     "name": "stdout",
     "output_type": "stream",
     "text": [
      "2003-03-28\n",
      "Aajni tarikh -  2023-02-06\n",
      "day 28\n",
      "month 3\n",
      "year 2003\n"
     ]
    }
   ],
   "source": [
    "# Date class\n",
    "import datetime;\n",
    "dat = datetime.date(2003,3,28);\n",
    "print(dat);\n",
    "print(\"Aajni tarikh - \",datetime.date.today());\n",
    "print(\"day\",dat.day);\n",
    "print(\"month\",dat.month);\n",
    "print(\"year\",dat.year);\n"
   ]
  },
  {
   "cell_type": "code",
   "execution_count": 109,
   "metadata": {},
   "outputs": [
    {
     "name": "stdout",
     "output_type": "stream",
     "text": [
      "08:44:56.000002\n",
      "8\n",
      "00:00:00\n",
      "56\n",
      "2\n"
     ]
    }
   ],
   "source": [
    "# Time class\n",
    "import datetime;\n",
    "tim = datetime.time(8,44,56,2);\n",
    "print(tim);\n",
    "print(tim.hour);\n",
    "print(tim.min);\n",
    "print(tim.second);\n",
    "print(tim.microsecond);"
   ]
  },
  {
   "cell_type": "code",
   "execution_count": 180,
   "metadata": {},
   "outputs": [
    {
     "name": "stdout",
     "output_type": "stream",
     "text": [
      "2003-04-29 08:44:56.000002\n",
      "2023-02-06 10:56:13.054971\n"
     ]
    }
   ],
   "source": [
    "# datetime\n",
    "import datetime;\n",
    "dattim = datetime.datetime(2003,4,29,8,44,56,2)\n",
    "print(dattim);\n",
    "print(datetime.datetime.now());"
   ]
  },
  {
   "cell_type": "code",
   "execution_count": 186,
   "metadata": {},
   "outputs": [
    {
     "name": "stdout",
     "output_type": "stream",
     "text": [
      "2023-02-08 11:01:29.727422\n",
      "Mon\n",
      "Monday\n"
     ]
    }
   ],
   "source": [
    "# timedalte\n",
    "import datetime;\n",
    "today = datetime.datetime.now();\n",
    "t = today + datetime.timedelta(days = 2);\n",
    "print(t);\n",
    "print(today.strftime(\"%a\"));\n",
    "print(today.strftime(\"%A\"));\n",
    "print(today.strftime())"
   ]
  }
 ],
 "metadata": {
  "kernelspec": {
   "display_name": "Python 3",
   "language": "python",
   "name": "python3"
  },
  "language_info": {
   "codemirror_mode": {
    "name": "ipython",
    "version": 3
   },
   "file_extension": ".py",
   "mimetype": "text/x-python",
   "name": "python",
   "nbconvert_exporter": "python",
   "pygments_lexer": "ipython3",
   "version": "3.11.0"
  },
  "orig_nbformat": 4,
  "vscode": {
   "interpreter": {
    "hash": "c8253c40f5a8e8444123cac8c8376aceee680d85e33b38d3d60136e9ad5d08d7"
   }
  }
 },
 "nbformat": 4,
 "nbformat_minor": 2
}
