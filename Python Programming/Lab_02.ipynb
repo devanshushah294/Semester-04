{
 "cells": [
  {
   "cell_type": "markdown",
   "metadata": {},
   "source": [
    "\n",
    "<a href='https://www.darshan.ac.in/'> <img src='https://www.darshan.ac.in/Content/media/DU_Logo.svg' width=\"250\" height=\"300\"/></a>\n",
    "<pre>\n",
    "<center><b><h1>Python Programming - 2101CS405</b></center>\n",
    "<center><b><h1>Lab - 2</b></center>    \n",
    "<pre>"
   ]
  },
  {
   "cell_type": "markdown",
   "metadata": {},
   "source": [
    "# if..else.."
   ]
  },
  {
   "cell_type": "markdown",
   "metadata": {},
   "source": [
    "### 01) WAP to check whether the given number is positive or negative."
   ]
  },
  {
   "cell_type": "code",
   "execution_count": 5,
   "metadata": {},
   "outputs": [
    {
     "name": "stdout",
     "output_type": "stream",
     "text": [
      "Enter the number : 0\n",
      "Number is 0\n"
     ]
    }
   ],
   "source": [
    "number = int(input(\"Enter the number : \"));\n",
    "if(number>0) :\n",
    "    print(number,\"is positive\");\n",
    "elif(number<0) :\n",
    "    print(number,\"is negative\");\n",
    "else :\n",
    "    print(\"Number is 0\");"
   ]
  },
  {
   "cell_type": "markdown",
   "metadata": {},
   "source": [
    "### 02) WAP to check whether the given number is odd or even"
   ]
  },
  {
   "cell_type": "code",
   "execution_count": 11,
   "metadata": {},
   "outputs": [
    {
     "name": "stdout",
     "output_type": "stream",
     "text": [
      "Enter the number : 95\n",
      "Number is odd\n"
     ]
    }
   ],
   "source": [
    "number = int(input(\"Enter the number : \"));\n",
    "if(number%2 == 0) : \n",
    "    print(\"Number is even\");\n",
    "else: \n",
    "    print(\"Number is odd\");"
   ]
  },
  {
   "cell_type": "markdown",
   "metadata": {},
   "source": [
    "### 03) WAP to find out largest number from given two numbers using simple if and ternary operator."
   ]
  },
  {
   "cell_type": "code",
   "execution_count": 13,
   "metadata": {},
   "outputs": [
    {
     "name": "stdout",
     "output_type": "stream",
     "text": [
      "Enter the number1 : 96\n",
      "Enter the number2 : 96\n",
      "96  is largest\n"
     ]
    }
   ],
   "source": [
    "number1 = int(input(\"Enter the number1 : \"));\n",
    "number2 = int(input(\"Enter the number2 : \"));\n",
    "if(number1 >= number2) : \n",
    "    print(number1, \" is largest\");\n",
    "else : \n",
    "    print(number2,\" is largest.\");"
   ]
  },
  {
   "cell_type": "markdown",
   "metadata": {},
   "source": [
    "### 04) WAP to find out largest number from given three numbers."
   ]
  },
  {
   "cell_type": "code",
   "execution_count": 6,
   "metadata": {},
   "outputs": [
    {
     "name": "stdout",
     "output_type": "stream",
     "text": [
      "96  is largest\n"
     ]
    }
   ],
   "source": [
    "number1 = int(input(\"Enter the number 1 : \"));\n",
    "number2 = int(input(\"Enter the number 2 : \"));\n",
    "number3 = int(input(\"Enter the number 3 : \"));\n",
    "if(number1 >= number2) :\n",
    "    if(number1 >= number3) : \n",
    "        print(number1,\" is largest.\");\n",
    "    else :\n",
    "        print(number3,\" is largest.\");\n",
    "else:\n",
    "    if(number2 >= number3) :\n",
    "        print(number2,\" is largest\");\n",
    "    else :\n",
    "        print(number3,\" is largest\");"
   ]
  },
  {
   "cell_type": "markdown",
   "metadata": {},
   "source": [
    "### 05) WAP to check whether the given year is leap year or not.\n",
    "[If a year can be divisible by 4 but not divisible by 100 then it is leap year but if it is divisible by 400 then it is leap year]"
   ]
  },
  {
   "cell_type": "code",
   "execution_count": 14,
   "metadata": {},
   "outputs": [
    {
     "name": "stdout",
     "output_type": "stream",
     "text": [
      "2005  is not leap year\n"
     ]
    }
   ],
   "source": [
    "year = int(input(\"Enter the year\"));\n",
    "if(year%400==0) :\n",
    "  print(year,\" is leap year\");\n",
    "elif(year%100==0) :\n",
    "  print(year,\" is not leap year\");\n",
    "elif(year%4==0) :\n",
    "  print(year,\" is leap year\");\n",
    "else :\n",
    "  print(year,\" is not leap year\");"
   ]
  },
  {
   "attachments": {},
   "cell_type": "markdown",
   "metadata": {},
   "source": [
    "### 06) WAP in python to display the name of the day according to the number given by the user"
   ]
  },
  {
   "cell_type": "code",
   "execution_count": 36,
   "metadata": {},
   "outputs": [
    {
     "name": "stdout",
     "output_type": "stream",
     "text": [
      "Sunday\n"
     ]
    }
   ],
   "source": [
    "day = int(input(\"Enter the number from 1 to 7 :\"));\n",
    "if(day == 1):\n",
    "    print(\"Monday\");\n",
    "elif(day == 2):\n",
    "    print(\"Tuesday\");\n",
    "elif(day == 3):\n",
    "    print(\"Wednesday\");\n",
    "elif(day == 4):\n",
    "    print(\"Thursday\");\n",
    "elif(day == 5):\n",
    "    print(\"Friday\");\n",
    "elif(day == 6):\n",
    "    print(\"Saturday\");\n",
    "elif(day == 7):\n",
    "    print(\"Sunday\");\n",
    "else:\n",
    "    print(\"Please enter a valid number\");\n"
   ]
  },
  {
   "cell_type": "markdown",
   "metadata": {},
   "source": [
    "### 07) WAP to implement simple calculator which performs (add,sub,mul,div) of two no. based on user input."
   ]
  },
  {
   "cell_type": "code",
   "execution_count": 34,
   "metadata": {},
   "outputs": [
    {
     "name": "stdout",
     "output_type": "stream",
     "text": [
      "Enter add for addition : \n",
      "Enter sub for substraction : \n",
      "Enter mul for multiplication : \n",
      "Enter div for division : \n",
      "substraction is : -11.0\n"
     ]
    }
   ],
   "source": [
    "n1 = float(input(\"Enter the number1 :\"));\n",
    "n2 = float(input(\"Enter the number2 :\"));\n",
    "\n",
    "print(\"Enter add for addition : \");\n",
    "print(\"Enter sub for substraction : \");\n",
    "print(\"Enter mul for multiplication : \");\n",
    "print(\"Enter div for division : \");\n",
    "\n",
    "operation = input(\"enter the operation :\");\n",
    "\n",
    "if(operation == \"add\"):\n",
    "    print(\"additon is :\",n1+n2);\n",
    "elif(operation == \"sub\"):\n",
    "    print(\"substraction is :\",n1-n2);\n",
    "elif(operation == \"mul\"):\n",
    "    print(\"multiplication is :\",n1*n2);\n",
    "elif(operation == \"div\"):\n",
    "    print(\"division is :\",n1/n2);\n",
    "else:\n",
    "    print(\"Please enter the valid operation\");"
   ]
  },
  {
   "cell_type": "markdown",
   "metadata": {},
   "source": [
    "### 08) WAP to calculate electricity bill based on following criteria. Which takes the unit from the user.\n",
    "a. First 1 to 50 units – Rs. 2.60/unit</br>\n",
    "b. Next 50 to 100 units – Rs. 3.25/unit</br>\n",
    "c. Next 100 to 200 units – Rs. 5.26/unit</br>\n",
    "d. above 200 units – Rs. 8.45/unit"
   ]
  },
  {
   "cell_type": "code",
   "execution_count": 33,
   "metadata": {},
   "outputs": [
    {
     "name": "stdout",
     "output_type": "stream",
     "text": [
      "Bill Amount :  1241.0\n"
     ]
    }
   ],
   "source": [
    "unit = float(input(\"Enter the units : \"));\n",
    "billAmount = 0;\n",
    "if(unit <= 50):\n",
    "    billAmount = unit*2.60;\n",
    "elif(unit>50 and unit<=100):\n",
    "    v1 = unit-50;\n",
    "    billAmount = (50*2.60)+(v1*3.25);\n",
    "elif(unit>100 and unit<=200):\n",
    "    v1 = unit-100;\n",
    "    billAmount = (50*2.60)+(50*3.25)+(v1*5.26);\n",
    "else:\n",
    "    v1 = unit-200;\n",
    "    billAmount = (50*2.60)+(50*3.25)+(100*5.26)+(v1*8.45);\n",
    "print(\"Bill Amount : \",billAmount);\n"
   ]
  },
  {
   "cell_type": "markdown",
   "metadata": {},
   "source": [
    "### 01) WAP to read marks of five subjects. Calculate percentage and print class accordingly. \n",
    "Fail below 35 </br>\n",
    "Pass Class between 35 to 45 </br>\n",
    "Second Class</br>\n",
    "between 45 to 60</br>\n",
    "First Class between 60 to 70</br> \n",
    "Distinction if more than 70"
   ]
  },
  {
   "cell_type": "code",
   "execution_count": 32,
   "metadata": {},
   "outputs": [
    {
     "name": "stdout",
     "output_type": "stream",
     "text": [
      "You passed with first class. 69.6  percentage\n"
     ]
    }
   ],
   "source": [
    "number1 = float(input(\"Enter the number1 : \"));\n",
    "number2 = float(input(\"Enter the number2 : \"));\n",
    "number3 = float(input(\"Enter the number3 : \"));\n",
    "number4 = float(input(\"Enter the number4 : \"));\n",
    "number5 = float(input(\"Enter the number5 : \"));\n",
    "if(number1<35 or number2<35 or number3<35 or number4<35 or number5<35) : \n",
    "  print(\"Sorry, you are failed.\");\n",
    "else : \n",
    "  total = number1+number2+number3+number4+number5;\n",
    "  percentage = total/5;\n",
    "  if(percentage>=35 and percentage<45) :\n",
    "    print(\"You passed with pass class. You are passed with \",percentage,\" percentage\");\n",
    "  elif(percentage>=45 and percentage<60) :\n",
    "    print(\"You passed with second class.\",percentage,\" percentage\");\n",
    "  elif(percentage>=60 and percentage<70) :\n",
    "    print(\"You passed with first class.\",percentage,\" percentage\");\n",
    "  else : \n",
    "    print(\"Congratulations, you passed with distinctions.\",percentage,\" percentage\")"
   ]
  },
  {
   "cell_type": "markdown",
   "metadata": {},
   "source": [
    "### 02) WAP to find out the Maximum and Minimum number from given 4 numbers."
   ]
  },
  {
   "cell_type": "code",
   "execution_count": 24,
   "metadata": {},
   "outputs": [
    {
     "name": "stdout",
     "output_type": "stream",
     "text": [
      "13  is maximum\n",
      "12  is minimum\n"
     ]
    }
   ],
   "source": [
    "number1 = int(input(\"Enter the number1 : \"));\n",
    "number2 = int(input(\"Enter the number2 : \"));\n",
    "number3 = int(input(\"Enter the number3 : \"));\n",
    "number4 = int(input(\"Enter the number4 : \"));\n",
    "if(number1>=number2 and number1>=number3 and number1>=number4) :\n",
    "  print(number1,\" is maximum\");\n",
    "elif(number2>=number1 and number2>=number3 and number2>=number4) : \n",
    "  print(number2,\" is maximum\");\n",
    "elif(number3>=number1 and number3>=number2 and number3>=number4) : \n",
    "  print(number3,\" is maximum\");\n",
    "elif(number4>=number1 and number4>=number3 and number4>=number2) : \n",
    "  print(number4,\" is maximum\");\n",
    "if(number1<=number2 and number1<=number3 and number1<=number4) :\n",
    "  print(number1,\" is minimum\");\n",
    "elif(number2<=number1 and number2<=number3 and number2<=number4) : \n",
    "  print(number2,\" is maximum\");\n",
    "elif(number3<=number1 and number3<=number2 and number3<=number4) : \n",
    "  print(number3,\" is maximum\");\n",
    "elif(number4<=number1 and number4<=number3 and number4<=number2) : \n",
    "  print(number4,\" is maximum\");"
   ]
  },
  {
   "cell_type": "markdown",
   "metadata": {},
   "source": [
    "### 03) WAP to input an integer number and check the last digit of number is even or odd."
   ]
  },
  {
   "cell_type": "code",
   "execution_count": 18,
   "metadata": {},
   "outputs": [
    {
     "name": "stdout",
     "output_type": "stream",
     "text": [
      "Odd\n"
     ]
    }
   ],
   "source": [
    "number1 = int(input(\"Enter the number1 : \"));\n",
    "if(number1%2 == 0) : \n",
    "  print(\"Even\");\n",
    "else :\n",
    "  print(\"Odd\");"
   ]
  },
  {
   "cell_type": "markdown",
   "metadata": {},
   "source": [
    "### 04) WAP to determine the roots of the equation ax2+bx+c=0."
   ]
  },
  {
   "cell_type": "code",
   "execution_count": 3,
   "metadata": {},
   "outputs": [
    {
     "name": "stdout",
     "output_type": "stream",
     "text": [
      "root 1 is  -1.0\n",
      "root 2 is  -1.0\n"
     ]
    }
   ],
   "source": [
    "a = int(input(\"Enter a : \"));\n",
    "b = int(input(\"Enter b : \"));\n",
    "c = int(input(\"Enter c : \"));\n",
    "d = (b**2)-4*(a*c);\n",
    "if(d>=0) :\n",
    "  root1 = (-1*b+(d**(1/2)))/(2*a);\n",
    "  root2 = (-1*b-(d**(1/2)))/(2*a);\n",
    "else :\n",
    "  term1 = -b/(2*a);\n",
    "  extra = ((-1*d)**(1/2))/(2*a);\n",
    "  term2 = str(extra)+\"i\";\n",
    "  root1 = str(term1)+\"+\"+term2;\n",
    "  root2 = str(term1)+\"-\"+term2;\n",
    "print(\"root 1 is \",root1);\n",
    "print(\"root 2 is \",root2);"
   ]
  }
 ],
 "metadata": {
  "kernelspec": {
   "display_name": "Python 3.11.0 64-bit",
   "language": "python",
   "name": "python3"
  },
  "language_info": {
   "codemirror_mode": {
    "name": "ipython",
    "version": 3
   },
   "file_extension": ".py",
   "mimetype": "text/x-python",
   "name": "python",
   "nbconvert_exporter": "python",
   "pygments_lexer": "ipython3",
   "version": "3.11.0"
  },
  "vscode": {
   "interpreter": {
    "hash": "c8253c40f5a8e8444123cac8c8376aceee680d85e33b38d3d60136e9ad5d08d7"
   }
  }
 },
 "nbformat": 4,
 "nbformat_minor": 4
}
