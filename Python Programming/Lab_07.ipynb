{
 "cells": [
  {
   "cell_type": "markdown",
   "metadata": {},
   "source": [
    "<a href='https://www.darshan.ac.in/'> <img src='https://www.darshan.ac.in/Content/media/DU_Logo.svg' width=\"250\" height=\"300\"/></a>\n",
    "<pre>\n",
    "<center><b><h1>Python Programming - 2101CS405</b></center>\n",
    "<center><b><h1>Lab - 7</b></center>    \n",
    "<pre>"
   ]
  },
  {
   "cell_type": "markdown",
   "metadata": {},
   "source": [
    "# Functions"
   ]
  },
  {
   "cell_type": "markdown",
   "metadata": {},
   "source": [
    "### 01) WAP to count simple interest using function."
   ]
  },
  {
   "cell_type": "code",
   "execution_count": 6,
   "metadata": {},
   "outputs": [
    {
     "name": "stdout",
     "output_type": "stream",
     "text": [
      "Enter the principle amount : 25000\n",
      "Enter the rate of intrest : 2\n",
      "Enter the time in years : 2\n",
      "intrest =  1000.0\n"
     ]
    },
    {
     "data": {
      "text/plain": [
       "1000.0"
      ]
     },
     "execution_count": 6,
     "metadata": {},
     "output_type": "execute_result"
    }
   ],
   "source": [
    "def simple_intrest(p,r,t) :\n",
    "    intrest = (p*r*t)/100;\n",
    "    print(\"intrest = \",intrest)\n",
    "    return intrest;\n",
    "p = float(input(\"Enter the principle amount : \"));\n",
    "r = float(input(\"Enter the rate of intrest : \"));\n",
    "t = float(input(\"Enter the time in years : \"));\n",
    "simple_intrest(p,r,t)"
   ]
  },
  {
   "cell_type": "markdown",
   "metadata": {},
   "source": [
    "### 02) WAP that defines a function to add first n numbers."
   ]
  },
  {
   "cell_type": "code",
   "execution_count": 3,
   "metadata": {},
   "outputs": [
    {
     "name": "stdout",
     "output_type": "stream",
     "text": [
      "Enter the n : 3\n",
      "6\n"
     ]
    }
   ],
   "source": [
    "n = int(input(\"Enter the n : \"));\n",
    "def print_first_n_numbers(n):\n",
    "    sum = 0;\n",
    "    for i in range(1,n+1):\n",
    "        sum += i; \n",
    "    print(sum);\n",
    "print_first_n_numbers(n);"
   ]
  },
  {
   "cell_type": "markdown",
   "metadata": {},
   "source": [
    "### 03) WAP to find maximum number from given two numbers using function."
   ]
  },
  {
   "cell_type": "code",
   "execution_count": 6,
   "metadata": {},
   "outputs": [
    {
     "name": "stdout",
     "output_type": "stream",
     "text": [
      "Enter the number1 : 25\n",
      "Enter the number2 : 36\n",
      "36\n"
     ]
    }
   ],
   "source": [
    "def greatest_among_two(n1,n2):\n",
    "    if(n1>=n2):\n",
    "        return n1;\n",
    "    return n2;\n",
    "n1 = int(input(\"Enter the number1 : \"));\n",
    "n2 = int(input(\"Enter the number2 : \"));\n",
    "print(greatest_among_two(n1,n2));"
   ]
  },
  {
   "cell_type": "markdown",
   "metadata": {},
   "source": [
    "### 04) WAP that defines a function which returns 1 if the number is prime otherwise return 0."
   ]
  },
  {
   "cell_type": "code",
   "execution_count": 13,
   "metadata": {},
   "outputs": [
    {
     "name": "stdout",
     "output_type": "stream",
     "text": [
      "0\n"
     ]
    }
   ],
   "source": [
    "def prime(n):\n",
    "    if(n<=1):\n",
    "        return 0;\n",
    "    if(n==2):\n",
    "        return 1;\n",
    "    for i in range (2,int(n**(1/2))+1):\n",
    "        if(n%i == 0):\n",
    "            return 0;\n",
    "    return 1;\n",
    "print(prime(1));"
   ]
  },
  {
   "cell_type": "markdown",
   "metadata": {},
   "source": [
    "### 05) Write a function called primes that takes an integer value as an argument and returns a list of all prime numbers up to that number."
   ]
  },
  {
   "cell_type": "code",
   "execution_count": 7,
   "metadata": {},
   "outputs": [
    {
     "name": "stdout",
     "output_type": "stream",
     "text": [
      "Enter the number23\n",
      "[2, 3, 5, 7, 11, 13, 17, 19, 23]\n"
     ]
    }
   ],
   "source": [
    "def prime(n):\n",
    "    if(n<=1):\n",
    "        return False;\n",
    "    if(n==2):\n",
    "        return True;\n",
    "    for i in range (2,int(n**(1/2))+1):\n",
    "        if(n%i == 0):\n",
    "            return False;\n",
    "    return True;\n",
    "def primes(n):\n",
    "    prime_numbers = list();\n",
    "    if(n<=1):\n",
    "        return prime_numbers;\n",
    "    for i in range(2,n+1):\n",
    "        if(prime(i)):\n",
    "            prime_numbers.append(i);\n",
    "    return prime_numbers;\n",
    "number = int(input(\"Enter the number\"));\n",
    "print(primes(number));"
   ]
  },
  {
   "cell_type": "markdown",
   "metadata": {},
   "source": [
    "### 06) WAP to generate Fibonacci series of N given number using function name fibbo. (e.g. 0 1 1 2 3 5 8...)"
   ]
  },
  {
   "cell_type": "code",
   "execution_count": 12,
   "metadata": {},
   "outputs": [
    {
     "name": "stdout",
     "output_type": "stream",
     "text": [
      "Enter the number : 25\n",
      "[0, 1, 1, 2, 3, 5, 8, 13, 21, 34, 55, 89, 144, 233, 377, 610, 987, 1597, 2584, 4181, 6765, 10946, 17711, 28657, 46368]\n"
     ]
    }
   ],
   "source": [
    "number = int(input(\"Enter the number : \"));\n",
    "def fibonacci(n):\n",
    "    new_list = list();\n",
    "    for i in range(1,n+1):\n",
    "        if(i==1):\n",
    "            new_list.append(0);\n",
    "        elif(i==2):\n",
    "            new_list.append(1);\n",
    "        elif(i>2):\n",
    "            new_list.append(new_list[i-3]+new_list[i-2]);\n",
    "    return new_list;\n",
    "print(fibonacci(number));\n"
   ]
  },
  {
   "cell_type": "markdown",
   "metadata": {},
   "source": [
    "### 07) WAP to find the factorial of a given number using recursion."
   ]
  },
  {
   "cell_type": "code",
   "execution_count": 16,
   "metadata": {},
   "outputs": [
    {
     "name": "stdout",
     "output_type": "stream",
     "text": [
      "Enter the number : 6\n",
      "720\n"
     ]
    }
   ],
   "source": [
    "def factorial(n):\n",
    "    if(n==0):\n",
    "        return 1;\n",
    "    elif(n==1) :\n",
    "        return 1;\n",
    "    elif(n>=2):\n",
    "        return n * factorial(n-1);\n",
    "number = int(input(\"Enter the number : \"));\n",
    "print(factorial(number));"
   ]
  },
  {
   "cell_type": "markdown",
   "metadata": {},
   "source": [
    "### 08) WAP to implement simple calculator using lamda function."
   ]
  },
  {
   "cell_type": "code",
   "execution_count": 19,
   "metadata": {},
   "outputs": [
    {
     "name": "stdout",
     "output_type": "stream",
     "text": [
      "Enter the number 1 : 25\n",
      "Enter the number 2 : 36\n",
      "61\n"
     ]
    }
   ],
   "source": [
    "add = lambda a,b :a+b\n",
    "sub = lambda a,b :a-b\n",
    "mul = lambda a,b :a*b\n",
    "div = lambda a,b :a/b\n",
    "n1 = int(input(\"Enter the number 1 : \"));\n",
    "n2 = int(input(\"Enter the number 2 : \"));\n",
    "print(add(n1,n2));"
   ]
  },
  {
   "cell_type": "markdown",
   "metadata": {},
   "source": [
    "### 09)Write a Python program that accepts a hyphen-separated sequence of words as input and prints the words in a hyphen-separated sequence after sorting them alphabetically\n",
    "Sample Items : green-red-yellow-black-white <br>\n",
    "Expected Result : black-green-red-white-yellow"
   ]
  },
  {
   "cell_type": "code",
   "execution_count": 1,
   "metadata": {},
   "outputs": [
    {
     "name": "stdout",
     "output_type": "stream",
     "text": [
      "Enter the stringgreen-red-yellow-black-white\n",
      "black-green-red-white-yellow\n"
     ]
    }
   ],
   "source": [
    "string = input(\"Enter the string\");\n",
    "string_list = string.split(\"-\");\n",
    "string_list.sort();\n",
    "string = \"-\".join(string_list);\n",
    "print(string);"
   ]
  },
  {
   "cell_type": "markdown",
   "metadata": {},
   "source": [
    "### 10) Write a python program to implement all function arguments type\n",
    "Positional arguments <Br>\n",
    "Default argument <Br>\n",
    "Keyword arguments (named arguments) <Br>\n",
    "Arbitrary arguments (variable-length arguments args and kwargs)"
   ]
  },
  {
   "cell_type": "code",
   "execution_count": 4,
   "metadata": {},
   "outputs": [
    {
     "name": "stdout",
     "output_type": "stream",
     "text": [
      "Positional arg 'fun1(3,5,c=6)' :  4\n",
      "Default arg 'fun1(3,5)' :  3\n",
      "Keyword arg 'fun1(b=3,a=5,c=9)' :  11\n",
      "Arbitrary arg 'add(1,2,3,5,6,7,8)' :  32\n"
     ]
    }
   ],
   "source": [
    "fun1=lambda a,b,c=5:a-b+c\n",
    "print(\"Positional arg 'fun1(3,5,c=6)' : \",fun1(3,5,c = 6))\n",
    "print(\"Default arg 'fun1(3,5)' : \",fun1(3,5))\n",
    "print(\"Keyword arg 'fun1(b=3,a=5,c=9)' : \",fun1(b=3,a=5,c=9))\n",
    "\n",
    "def add(*num):\n",
    "    sum = 0\n",
    "    for n in num:\n",
    "        sum = sum + n\n",
    "    return sum\n",
    "print(\"Arbitrary arg 'add(1,2,3,5,6,7,8)' : \",add(1,2,3,5,6,7,8))"
   ]
  },
  {
   "cell_type": "markdown",
   "metadata": {},
   "source": [
    "### 01) WAP to calculate power of a number using recursion."
   ]
  },
  {
   "cell_type": "code",
   "execution_count": 7,
   "metadata": {},
   "outputs": [
    {
     "name": "stdout",
     "output_type": "stream",
     "text": [
      "8\n"
     ]
    }
   ],
   "source": [
    "n = int(input(\"Enter the number : \"));\n",
    "p = int(input(\"Enter the power : \"));\n",
    "def pow(n,p) :\n",
    "  if(p==1):\n",
    "    return n\n",
    "  elif(p==0):\n",
    "    return 1\n",
    "  elif(p<0):\n",
    "    return n*pow(n,p+1)\n",
    "  else :\n",
    "    return n*pow(n,p-1)\n",
    "print(pow(n,p))"
   ]
  },
  {
   "cell_type": "markdown",
   "metadata": {},
   "source": [
    "### 02) WAP to count digits of a number using recursion."
   ]
  },
  {
   "cell_type": "code",
   "execution_count": 15,
   "metadata": {},
   "outputs": [
    {
     "name": "stdout",
     "output_type": "stream",
     "text": [
      "4\n"
     ]
    }
   ],
   "source": [
    "n = int(input(\"Enter the number : \"));\n",
    "def count_digits(n):\n",
    "  if(n == 0):\n",
    "    return 0;\n",
    "  else:\n",
    "    return 1 + count_digits(int(n/10));\n",
    "print(count_digits(n));"
   ]
  },
  {
   "cell_type": "markdown",
   "metadata": {},
   "source": [
    "### 03) WAP to reverse an integer number using recursion."
   ]
  },
  {
   "cell_type": "code",
   "execution_count": 21,
   "metadata": {},
   "outputs": [
    {
     "name": "stdout",
     "output_type": "stream",
     "text": [
      "741\n"
     ]
    }
   ],
   "source": [
    "def reverse(on,nn=0) :\n",
    "  if(on<0):\n",
    "    on *= -1;\n",
    "  if(on==0):\n",
    "    return nn;\n",
    "  else:\n",
    "    x = on%10;\n",
    "    return reverse(int(on/10),nn*10+x);\n",
    "p = 147;\n",
    "print(reverse(p,0))"
   ]
  },
  {
   "cell_type": "markdown",
   "metadata": {},
   "source": [
    "### 04) WAP to convert decimal number into binary using recursion."
   ]
  },
  {
   "cell_type": "code",
   "execution_count": 25,
   "metadata": {},
   "outputs": [
    {
     "data": {
      "text/plain": [
       "'1010'"
      ]
     },
     "execution_count": 25,
     "metadata": {},
     "output_type": "execute_result"
    }
   ],
   "source": [
    "def decimal_to_binary(n,binary=\"\"):\n",
    "  if(n==0):\n",
    "    return binary[::-1];\n",
    "  else:\n",
    "    return decimal_to_binary(int(n/2),binary+str(n%2))\n",
    "decimal_to_binary(10)"
   ]
  }
 ],
 "metadata": {
  "kernelspec": {
   "display_name": "Python 3",
   "language": "python",
   "name": "python3"
  },
  "language_info": {
   "codemirror_mode": {
    "name": "ipython",
    "version": 3
   },
   "file_extension": ".py",
   "mimetype": "text/x-python",
   "name": "python",
   "nbconvert_exporter": "python",
   "pygments_lexer": "ipython3",
   "version": "3.11.0"
  },
  "vscode": {
   "interpreter": {
    "hash": "c8253c40f5a8e8444123cac8c8376aceee680d85e33b38d3d60136e9ad5d08d7"
   }
  }
 },
 "nbformat": 4,
 "nbformat_minor": 4
}
